{
 "cells": [
  {
   "cell_type": "markdown",
   "id": "a7e27d64",
   "metadata": {},
   "source": [
    "## 8.1 字符串是一个序列  \n",
    "字符串是一个字符的序列（sequence）。  \n",
    "可以使用方括号操作符[ ]来访问字符串中单独的数字。"
   ]
  },
  {
   "cell_type": "code",
   "execution_count": 5,
   "id": "f9963e24",
   "metadata": {},
   "outputs": [
    {
     "data": {
      "text/plain": [
       "('g', 'r', 'a', 'p', 'e')"
      ]
     },
     "execution_count": 5,
     "metadata": {},
     "output_type": "execute_result"
    }
   ],
   "source": [
    "fruit = 'grape'\n",
    "fruit[0],fruit[1],fruit[2],fruit[3],fruit[4] # 当下标为自然数"
   ]
  },
  {
   "cell_type": "code",
   "execution_count": 6,
   "id": "6e505180",
   "metadata": {},
   "outputs": [
    {
     "data": {
      "text/plain": [
       "('e', 'p', 'a', 'r', 'g')"
      ]
     },
     "execution_count": 6,
     "metadata": {},
     "output_type": "execute_result"
    }
   ],
   "source": [
    "fruit[-1],fruit[-2],fruit[-3],fruit[-4],fruit[-5] # 当下标为负整数"
   ]
  },
  {
   "cell_type": "markdown",
   "id": "28567b7a",
   "metadata": {},
   "source": [
    "## 8.2 len\n",
    "len是一个内置函数，返回字符串中字符的个数。"
   ]
  },
  {
   "cell_type": "code",
   "execution_count": 7,
   "id": "fb7ac025",
   "metadata": {},
   "outputs": [
    {
     "data": {
      "text/plain": [
       "5"
      ]
     },
     "execution_count": 7,
     "metadata": {},
     "output_type": "execute_result"
    }
   ],
   "source": [
    "len(fruit)"
   ]
  },
  {
   "cell_type": "code",
   "execution_count": 8,
   "id": "972eeadc",
   "metadata": {},
   "outputs": [
    {
     "data": {
      "text/plain": [
       "'e'"
      ]
     },
     "execution_count": 8,
     "metadata": {},
     "output_type": "execute_result"
    }
   ],
   "source": [
    "last = fruit[len(fruit)-1]\n",
    "last"
   ]
  },
  {
   "cell_type": "markdown",
   "id": "633c3519",
   "metadata": {},
   "source": [
    "## 8.3 使用for循环进行遍历（traversal）"
   ]
  },
  {
   "cell_type": "code",
   "execution_count": 9,
   "id": "3c8edaa9",
   "metadata": {},
   "outputs": [
    {
     "name": "stdout",
     "output_type": "stream",
     "text": [
      "g\n",
      "r\n",
      "a\n",
      "p\n",
      "e\n"
     ]
    }
   ],
   "source": [
    "for letter in fruit:\n",
    "    print(letter)"
   ]
  },
  {
   "cell_type": "markdown",
   "id": "5f08d588",
   "metadata": {},
   "source": [
    "##  8.4 字符串切片（slice）\n",
    "字符串中的一段成为一个切片。"
   ]
  },
  {
   "cell_type": "code",
   "execution_count": 10,
   "id": "b77f3bee",
   "metadata": {},
   "outputs": [
    {
     "data": {
      "text/plain": [
       "'grape'"
      ]
     },
     "execution_count": 10,
     "metadata": {},
     "output_type": "execute_result"
    }
   ],
   "source": [
    "fruit[0:5]   #返回第0个元素到第4个元素的部分，一共5个元素。可以理解为左闭右开的一个区间。"
   ]
  },
  {
   "cell_type": "code",
   "execution_count": 11,
   "id": "b64d0842",
   "metadata": {},
   "outputs": [
    {
     "data": {
      "text/plain": [
       "'gra'"
      ]
     },
     "execution_count": 11,
     "metadata": {},
     "output_type": "execute_result"
    }
   ],
   "source": [
    "fruit[:3]  #返回从头元素到第2个元素的部分,一共3个元素，等价于[0:3]。"
   ]
  },
  {
   "cell_type": "code",
   "execution_count": 12,
   "id": "bfe595e0",
   "metadata": {},
   "outputs": [
    {
     "data": {
      "text/plain": [
       "'ape'"
      ]
     },
     "execution_count": 12,
     "metadata": {},
     "output_type": "execute_result"
    }
   ],
   "source": [
    "fruit[2:]  #返回从第二个元素到尾元素的部分，一共有len（list）-2=3个元素，即3个元素。等价于[2:len（list）]"
   ]
  },
  {
   "cell_type": "code",
   "execution_count": 13,
   "id": "b474fd1d",
   "metadata": {},
   "outputs": [
    {
     "data": {
      "text/plain": [
       "'grape'"
      ]
     },
     "execution_count": 13,
     "metadata": {},
     "output_type": "execute_result"
    }
   ],
   "source": [
    "fruit[:]  #返回整个字符串"
   ]
  },
  {
   "cell_type": "code",
   "execution_count": 14,
   "id": "c1d12f35",
   "metadata": {},
   "outputs": [
    {
     "data": {
      "text/plain": [
       "''"
      ]
     },
     "execution_count": 14,
     "metadata": {},
     "output_type": "execute_result"
    }
   ],
   "source": [
    "fruit[2:2]  #返回空字符串"
   ]
  },
  {
   "cell_type": "markdown",
   "id": "7f662896",
   "metadata": {},
   "source": [
    "如果超出范围返回空字符串，比如下例"
   ]
  },
  {
   "cell_type": "code",
   "execution_count": 26,
   "id": "a6c8a637",
   "metadata": {},
   "outputs": [
    {
     "data": {
      "text/plain": [
       "''"
      ]
     },
     "execution_count": 26,
     "metadata": {},
     "output_type": "execute_result"
    }
   ],
   "source": [
    "fruit[7:]"
   ]
  },
  {
   "cell_type": "code",
   "execution_count": 33,
   "id": "8cb5a29a",
   "metadata": {},
   "outputs": [
    {
     "data": {
      "text/plain": [
       "('', 'g')"
      ]
     },
     "execution_count": 33,
     "metadata": {},
     "output_type": "execute_result"
    }
   ],
   "source": [
    "fruit[:-5],fruit[-5]"
   ]
  },
  {
   "cell_type": "markdown",
   "id": "7218a15f",
   "metadata": {},
   "source": [
    "## 8.5 字符串是不可变的（immutable）\n",
    "object对象，item值"
   ]
  },
  {
   "cell_type": "code",
   "execution_count": 15,
   "id": "b6e2c292",
   "metadata": {},
   "outputs": [
    {
     "ename": "TypeError",
     "evalue": "'str' object does not support item assignment",
     "output_type": "error",
     "traceback": [
      "\u001b[1;31m---------------------------------------------------------------------------\u001b[0m",
      "\u001b[1;31mTypeError\u001b[0m                                 Traceback (most recent call last)",
      "\u001b[1;32m<ipython-input-15-5c8d51b01a83>\u001b[0m in \u001b[0;36m<module>\u001b[1;34m\u001b[0m\n\u001b[1;32m----> 1\u001b[1;33m \u001b[0mfruit\u001b[0m\u001b[1;33m[\u001b[0m\u001b[1;36m0\u001b[0m\u001b[1;33m]\u001b[0m\u001b[1;33m=\u001b[0m\u001b[1;34m'a'\u001b[0m\u001b[1;33m\u001b[0m\u001b[1;33m\u001b[0m\u001b[0m\n\u001b[0m",
      "\u001b[1;31mTypeError\u001b[0m: 'str' object does not support item assignment"
     ]
    }
   ],
   "source": [
    "fruit[0]='a'"
   ]
  },
  {
   "cell_type": "code",
   "execution_count": 16,
   "id": "5251d97a",
   "metadata": {},
   "outputs": [
    {
     "data": {
      "text/plain": [
       "'grape'"
      ]
     },
     "execution_count": 16,
     "metadata": {},
     "output_type": "execute_result"
    }
   ],
   "source": [
    "fruit"
   ]
  },
  {
   "cell_type": "markdown",
   "id": "329e5bcc",
   "metadata": {},
   "source": [
    "## 8.6 搜索\n",
    "实现find函数，与[ ]操作符相反（通过下标查找对应的字符）。  \n",
    "通过查找对应的字符返回下标。"
   ]
  },
  {
   "cell_type": "code",
   "execution_count": 17,
   "id": "f287d751",
   "metadata": {},
   "outputs": [
    {
     "data": {
      "text/plain": [
       "2"
      ]
     },
     "execution_count": 17,
     "metadata": {},
     "output_type": "execute_result"
    }
   ],
   "source": [
    "def find(word,letter):\n",
    "    index = 0\n",
    "    while index <= len(word)-1:\n",
    "        if word[index] == letter:\n",
    "            return index\n",
    "        index = index + 1 \n",
    "    return -1\n",
    "\n",
    "index = find(fruit,'a')\n",
    "index"
   ]
  },
  {
   "cell_type": "markdown",
   "id": "9dcf9c02",
   "metadata": {},
   "source": [
    "## 8.7 循环和技术\n",
    "通过循环实现计数器。"
   ]
  },
  {
   "cell_type": "code",
   "execution_count": 18,
   "id": "d84fdd34",
   "metadata": {},
   "outputs": [
    {
     "data": {
      "text/plain": [
       "3"
      ]
     },
     "execution_count": 18,
     "metadata": {},
     "output_type": "execute_result"
    }
   ],
   "source": [
    "def count(word,letter):\n",
    "    n = 0\n",
    "    for i in word:\n",
    "        if i == letter:\n",
    "            n = n + 1\n",
    "    return n\n",
    "\n",
    "word = 'banana'\n",
    "n = count(word,'a')\n",
    "n"
   ]
  },
  {
   "cell_type": "markdown",
   "id": "a1f1e10f",
   "metadata": {},
   "source": [
    "利用8.6搜索中的find函数，实现计数器功能。"
   ]
  },
  {
   "cell_type": "code",
   "execution_count": 37,
   "id": "cdf7455e",
   "metadata": {},
   "outputs": [
    {
     "data": {
      "text/plain": [
       "(3, 1, 2, 0)"
      ]
     },
     "execution_count": 37,
     "metadata": {},
     "output_type": "execute_result"
    }
   ],
   "source": [
    "def count(word,letter):\n",
    "    n = 0                     # 初始化计数器\n",
    "    pos = -1         # 查找letter在word中的位置\n",
    "    while find(word[pos+1:],letter)!= -1:\n",
    "        n = n + 1\n",
    "        pos = pos + 1 + find(word[pos+1:],letter)\n",
    "    return n\n",
    "\n",
    "count(word,'a'),count(word,'b'),count(word,'n'),count(word,'c')"
   ]
  },
  {
   "cell_type": "markdown",
   "id": "0e19c32c",
   "metadata": {},
   "source": [
    "## 8.8 字符串方法\n",
    ">str.upper()  \n",
    "\n",
    "返回原字符串的副本，其中所有区分大小写的字符均转换为大写。  \n",
    "方法的调用称为**invocation**"
   ]
  },
  {
   "cell_type": "code",
   "execution_count": 38,
   "id": "22a92604",
   "metadata": {},
   "outputs": [
    {
     "data": {
      "text/plain": [
       "'BANANA'"
      ]
     },
     "execution_count": 38,
     "metadata": {},
     "output_type": "execute_result"
    }
   ],
   "source": [
    "new_word = word.upper()\n",
    "new_word"
   ]
  },
  {
   "cell_type": "markdown",
   "id": "e65a8c89",
   "metadata": {},
   "source": [
    ">str.find(sub[, start[, end]])\n",
    "\n",
    "返回子字符串 sub 在 s[start:end] 切片内被找到的最小索引。  \n",
    "可选参数 start 与 end 会被解读为切片表示法。 如果 sub 未被找到则返回 -1。"
   ]
  },
  {
   "cell_type": "code",
   "execution_count": 40,
   "id": "cb9bcc80",
   "metadata": {},
   "outputs": [
    {
     "data": {
      "text/plain": [
       "(1, -1)"
      ]
     },
     "execution_count": 40,
     "metadata": {},
     "output_type": "execute_result"
    }
   ],
   "source": [
    "index1 , index2 = word.find('a'), word.find('c')\n",
    "index1,index2"
   ]
  },
  {
   "cell_type": "code",
   "execution_count": 42,
   "id": "479a8434",
   "metadata": {},
   "outputs": [
    {
     "data": {
      "text/plain": [
       "2"
      ]
     },
     "execution_count": 42,
     "metadata": {},
     "output_type": "execute_result"
    }
   ],
   "source": [
    "index3 = word.find('na')\n",
    "index3"
   ]
  },
  {
   "cell_type": "code",
   "execution_count": 45,
   "id": "0add1bf5",
   "metadata": {},
   "outputs": [
    {
     "data": {
      "text/plain": [
       "('na', 3)"
      ]
     },
     "execution_count": 45,
     "metadata": {},
     "output_type": "execute_result"
    }
   ],
   "source": [
    "index4 = word.find('a',2,4)\n",
    "word[2:4],index4"
   ]
  },
  {
   "cell_type": "code",
   "execution_count": 48,
   "id": "2f17f2ae",
   "metadata": {},
   "outputs": [
    {
     "data": {
      "text/plain": [
       "-1"
      ]
     },
     "execution_count": 48,
     "metadata": {},
     "output_type": "execute_result"
    }
   ],
   "source": [
    "word = 'abcdefg'\n",
    "index5 = word.find('g',0,6)\n",
    "index5 "
   ]
  },
  {
   "cell_type": "markdown",
   "id": "f74cb573",
   "metadata": {},
   "source": [
    "## 8.9 操作符in\n",
    "in是一个bool操作符，操作于两个字符串上，如果第一个是第二个的子串，返回True，否则返回False。"
   ]
  },
  {
   "cell_type": "code",
   "execution_count": 49,
   "id": "cb4b2d48",
   "metadata": {},
   "outputs": [
    {
     "data": {
      "text/plain": [
       "True"
      ]
     },
     "execution_count": 49,
     "metadata": {},
     "output_type": "execute_result"
    }
   ],
   "source": [
    "word = 'banana'\n",
    "'ana' in word"
   ]
  },
  {
   "cell_type": "code",
   "execution_count": 52,
   "id": "6fe1ad9b",
   "metadata": {},
   "outputs": [
    {
     "data": {
      "text/plain": [
       "False"
      ]
     },
     "execution_count": 52,
     "metadata": {},
     "output_type": "execute_result"
    }
   ],
   "source": [
    "'seed' in 'banana' "
   ]
  },
  {
   "cell_type": "markdown",
   "id": "4f78e2b6",
   "metadata": {},
   "source": [
    "利用操作符in实现一个函数，打印出word1中出现且出现在word2中的所有字母："
   ]
  },
  {
   "cell_type": "code",
   "execution_count": 54,
   "id": "d27921fc",
   "metadata": {},
   "outputs": [],
   "source": [
    "def in_both(word1,word2):\n",
    "    for letter in word1:\n",
    "        if letter in word2:\n",
    "            print(letter)"
   ]
  },
  {
   "cell_type": "code",
   "execution_count": 55,
   "id": "cf6182bf",
   "metadata": {},
   "outputs": [
    {
     "name": "stdout",
     "output_type": "stream",
     "text": [
      "a\n",
      "e\n",
      "s\n"
     ]
    }
   ],
   "source": [
    "in_both('apples','oranges')"
   ]
  },
  {
   "cell_type": "markdown",
   "id": "6796b175",
   "metadata": {},
   "source": [
    "## 8.10 字符串比较"
   ]
  },
  {
   "cell_type": "markdown",
   "id": "0b9bb30c",
   "metadata": {},
   "source": [
    "关系操作符也可以用在字符串上。   \n",
    "比如 '==' 可以检查两个字符串是否相等："
   ]
  },
  {
   "cell_type": "code",
   "execution_count": 56,
   "id": "079e28a6",
   "metadata": {},
   "outputs": [
    {
     "data": {
      "text/plain": [
       "True"
      ]
     },
     "execution_count": 56,
     "metadata": {},
     "output_type": "execute_result"
    }
   ],
   "source": [
    "word == 'banana'"
   ]
  },
  {
   "cell_type": "code",
   "execution_count": 57,
   "id": "072546a4",
   "metadata": {},
   "outputs": [
    {
     "data": {
      "text/plain": [
       "False"
      ]
     },
     "execution_count": 57,
     "metadata": {},
     "output_type": "execute_result"
    }
   ],
   "source": [
    "word == 'apples'"
   ]
  },
  {
   "cell_type": "markdown",
   "id": "dad904f2",
   "metadata": {},
   "source": [
    "'<' , '>'关系操作符将单词按照字母顺序比较:  \n",
    "使用其字符的 Unicode 码位数字值 ord(c)"
   ]
  },
  {
   "cell_type": "code",
   "execution_count": 59,
   "id": "44532a2b",
   "metadata": {},
   "outputs": [
    {
     "name": "stdout",
     "output_type": "stream",
     "text": [
      "a对应的Unicode码为：97\n",
      "b对应的Unicode码为：98\n",
      "c对应的Unicode码为：99\n",
      "d对应的Unicode码为：100\n",
      "e对应的Unicode码为：101\n",
      "f对应的Unicode码为：102\n",
      "g对应的Unicode码为：103\n",
      "h对应的Unicode码为：104\n",
      "i对应的Unicode码为：105\n",
      "j对应的Unicode码为：106\n",
      "k对应的Unicode码为：107\n",
      "l对应的Unicode码为：108\n",
      "m对应的Unicode码为：109\n",
      "n对应的Unicode码为：110\n",
      "o对应的Unicode码为：111\n",
      "p对应的Unicode码为：112\n",
      "q对应的Unicode码为：113\n",
      "r对应的Unicode码为：114\n",
      "s对应的Unicode码为：115\n",
      "t对应的Unicode码为：116\n",
      "u对应的Unicode码为：117\n",
      "v对应的Unicode码为：118\n",
      "w对应的Unicode码为：119\n",
      "x对应的Unicode码为：120\n",
      "y对应的Unicode码为：121\n",
      "z对应的Unicode码为：122\n",
      "A对应的Unicode码为：65\n",
      "B对应的Unicode码为：66\n",
      "C对应的Unicode码为：67\n",
      "D对应的Unicode码为：68\n",
      "E对应的Unicode码为：69\n",
      "F对应的Unicode码为：70\n",
      "G对应的Unicode码为：71\n",
      "H对应的Unicode码为：72\n",
      "I对应的Unicode码为：73\n",
      "J对应的Unicode码为：74\n",
      "K对应的Unicode码为：75\n",
      "L对应的Unicode码为：76\n",
      "M对应的Unicode码为：77\n",
      "N对应的Unicode码为：78\n",
      "O对应的Unicode码为：79\n",
      "P对应的Unicode码为：80\n",
      "Q对应的Unicode码为：81\n",
      "R对应的Unicode码为：82\n",
      "S对应的Unicode码为：83\n",
      "T对应的Unicode码为：84\n",
      "U对应的Unicode码为：85\n",
      "V对应的Unicode码为：86\n",
      "W对应的Unicode码为：87\n",
      "X对应的Unicode码为：88\n",
      "Y对应的Unicode码为：89\n",
      "Z对应的Unicode码为：90\n"
     ]
    }
   ],
   "source": [
    "a_z='abcdefghijklmnopqrstuvwxyz'\n",
    "A_Z='ABCDEFGHIJKLMNOPQRSTUVWXYZ'\n",
    "for letter in a_z + A_Z:\n",
    "    print(\"{}对应的Unicode码为：{}\".format(letter,ord(letter)))"
   ]
  },
  {
   "cell_type": "code",
   "execution_count": 60,
   "id": "92f14891",
   "metadata": {},
   "outputs": [
    {
     "data": {
      "text/plain": [
       "False"
      ]
     },
     "execution_count": 60,
     "metadata": {},
     "output_type": "execute_result"
    }
   ],
   "source": [
    "'apples' > 'banana'  #a:97 b:98 return:False"
   ]
  },
  {
   "cell_type": "code",
   "execution_count": 61,
   "id": "fbdf7f03",
   "metadata": {},
   "outputs": [
    {
     "data": {
      "text/plain": [
       "True"
      ]
     },
     "execution_count": 61,
     "metadata": {},
     "output_type": "execute_result"
    }
   ],
   "source": [
    "'aaA' <  'aaa' #a:97 A:65 return:True"
   ]
  },
  {
   "cell_type": "markdown",
   "id": "a4f3259d",
   "metadata": {},
   "source": [
    "## 8.12 术语表\n",
    "- 对象（object）\n",
    "- 序列（sequence）\n",
    "- 项（item）\n",
    "- 下标（index）\n",
    "- 切片（slice）\n",
    "- 空字符串（empty string）\n",
    "- 不可变（immutable）\n",
    "- 遍历（traverse）\n",
    "- 搜索（search）\n",
    "- 计数器（counter）\n",
    "- 方法调用（invocation）\n",
    "- 可选参数（optional argument）"
   ]
  }
 ],
 "metadata": {
  "kernelspec": {
   "display_name": "Python 3",
   "language": "python",
   "name": "python3"
  },
  "language_info": {
   "codemirror_mode": {
    "name": "ipython",
    "version": 3
   },
   "file_extension": ".py",
   "mimetype": "text/x-python",
   "name": "python",
   "nbconvert_exporter": "python",
   "pygments_lexer": "ipython3",
   "version": "3.8.8"
  }
 },
 "nbformat": 4,
 "nbformat_minor": 5
}
