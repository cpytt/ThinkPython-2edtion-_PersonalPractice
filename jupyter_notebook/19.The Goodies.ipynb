{
 "cells": [
  {
   "cell_type": "markdown",
   "id": "cf2688c5",
   "metadata": {},
   "source": [
    "# 第19章 Python拾珍\n",
    "## 19.1 条件表达式"
   ]
  },
  {
   "cell_type": "code",
   "execution_count": 1,
   "id": "65ceb202",
   "metadata": {},
   "outputs": [],
   "source": [
    "import math\n",
    "x=1\n",
    "\n",
    "if x>0:\n",
    "    y = math.log(x)\n",
    "else:\n",
    "    y = float('nan')\n",
    "\n",
    "y = math.log(x) if x>0 else float('nan')"
   ]
  },
  {
   "cell_type": "code",
   "execution_count": 2,
   "id": "1baca0f5",
   "metadata": {},
   "outputs": [],
   "source": [
    "def factorial(n):\n",
    "    if n==0:\n",
    "        return 1\n",
    "    else:\n",
    "        return n*factorial(n-1)\n",
    "    \n",
    "    \n",
    "def factorial(n):\n",
    "    return 1 if n == 0 else n * factorial(n-1)"
   ]
  },
  {
   "cell_type": "code",
   "execution_count": 3,
   "id": "e7a5bf41",
   "metadata": {},
   "outputs": [],
   "source": [
    "def __init__(self,name,contents=None):\n",
    "    if contents == None:\n",
    "        contents=[]\n",
    "    self.pouch_contents = contents\n",
    "    \n",
    "    \n",
    "def __init__(self,name,contents=None):\n",
    "    self.pouch_contents = [] if contents == None else contents"
   ]
  },
  {
   "cell_type": "markdown",
   "id": "868507cf",
   "metadata": {},
   "source": [
    "## 19.2 列表理解\n",
    "在10.7节我们已经学过映射和过滤模式，比如下面的函数接收一个字符串列表，将每个元素通过字符串方法capitalize进行映射，并返回一个新的字符串列表"
   ]
  },
  {
   "cell_type": "code",
   "execution_count": 4,
   "id": "4df02c43",
   "metadata": {},
   "outputs": [],
   "source": [
    "def capitalize_all(t):\n",
    "    res = []\n",
    "    for s in t:\n",
    "        res.append(s.capitalize())\n",
    "    return res"
   ]
  },
  {
   "cell_type": "markdown",
   "id": "81024edc",
   "metadata": {},
   "source": [
    "我们可以用**列表理解（list comprehension）**把这个函数写的更精凑些："
   ]
  },
  {
   "cell_type": "code",
   "execution_count": 5,
   "id": "673f7a74",
   "metadata": {},
   "outputs": [],
   "source": [
    "def capitalize_all(t):\n",
    "    return [s.capitlize() for s in t]"
   ]
  },
  {
   "cell_type": "markdown",
   "id": "93c62347",
   "metadata": {},
   "source": [
    "方括号操作符说明我们要构建一个新列表。方括号之内的表达是指定了列表的元素，而for子句表示我们要遍历的序列。<br>\n",
    "\n",
    "\n",
    "列表理解也可用于过滤操作。"
   ]
  },
  {
   "cell_type": "code",
   "execution_count": 6,
   "id": "e5579973",
   "metadata": {},
   "outputs": [],
   "source": [
    "def only_upper(t):\n",
    "    res = []\n",
    "    for s in t:\n",
    "        if s.isupper():\n",
    "            res.append(s)\n",
    "    return res"
   ]
  },
  {
   "cell_type": "code",
   "execution_count": 7,
   "id": "3f5cab38",
   "metadata": {},
   "outputs": [],
   "source": [
    "def only_upper(t):\n",
    "    return [s for s in t if s.isupper()]"
   ]
  },
  {
   "cell_type": "markdown",
   "id": "51674949",
   "metadata": {},
   "source": [
    "## 19.3 生成器表达式\n",
    "**生成器表达式（generator expression）**和列表理解类似，但是使用的是圆括号，而不是方括号"
   ]
  },
  {
   "cell_type": "code",
   "execution_count": 8,
   "id": "901ff17e",
   "metadata": {},
   "outputs": [
    {
     "data": {
      "text/plain": [
       "<generator object <genexpr> at 0x00000262D5495510>"
      ]
     },
     "execution_count": 8,
     "metadata": {},
     "output_type": "execute_result"
    }
   ],
   "source": [
    "g = (x**2 for x in range(5))\n",
    "g"
   ]
  },
  {
   "cell_type": "markdown",
   "id": "350348e3",
   "metadata": {},
   "source": [
    "结果是一个生成器对象，不会一次把结果都计算出来，而是等待请求。内置函数next会从生成器中获取下一个值。"
   ]
  },
  {
   "cell_type": "code",
   "execution_count": 9,
   "id": "7afc90ba",
   "metadata": {},
   "outputs": [
    {
     "data": {
      "text/plain": [
       "0"
      ]
     },
     "execution_count": 9,
     "metadata": {},
     "output_type": "execute_result"
    }
   ],
   "source": [
    "next(g)"
   ]
  },
  {
   "cell_type": "code",
   "execution_count": 10,
   "id": "5164c1fa",
   "metadata": {},
   "outputs": [
    {
     "data": {
      "text/plain": [
       "1"
      ]
     },
     "execution_count": 10,
     "metadata": {},
     "output_type": "execute_result"
    }
   ],
   "source": [
    "next(g)"
   ]
  },
  {
   "cell_type": "code",
   "execution_count": 11,
   "id": "70d753ed",
   "metadata": {},
   "outputs": [
    {
     "data": {
      "text/plain": [
       "4"
      ]
     },
     "execution_count": 11,
     "metadata": {},
     "output_type": "execute_result"
    }
   ],
   "source": [
    "next(g)"
   ]
  },
  {
   "cell_type": "code",
   "execution_count": 12,
   "id": "cdc7d2b1",
   "metadata": {},
   "outputs": [
    {
     "data": {
      "text/plain": [
       "9"
      ]
     },
     "execution_count": 12,
     "metadata": {},
     "output_type": "execute_result"
    }
   ],
   "source": [
    "next(g)"
   ]
  },
  {
   "cell_type": "code",
   "execution_count": 13,
   "id": "905e2a24",
   "metadata": {},
   "outputs": [
    {
     "data": {
      "text/plain": [
       "16"
      ]
     },
     "execution_count": 13,
     "metadata": {},
     "output_type": "execute_result"
    }
   ],
   "source": [
    "next(g)"
   ]
  },
  {
   "cell_type": "code",
   "execution_count": 15,
   "id": "2c931367",
   "metadata": {},
   "outputs": [
    {
     "ename": "StopIteration",
     "evalue": "",
     "output_type": "error",
     "traceback": [
      "\u001b[1;31m---------------------------------------------------------------------------\u001b[0m",
      "\u001b[1;31mStopIteration\u001b[0m                             Traceback (most recent call last)",
      "\u001b[1;32m<ipython-input-15-e734f8aca5ac>\u001b[0m in \u001b[0;36m<module>\u001b[1;34m\u001b[0m\n\u001b[1;32m----> 1\u001b[1;33m \u001b[0mnext\u001b[0m\u001b[1;33m(\u001b[0m\u001b[0mg\u001b[0m\u001b[1;33m)\u001b[0m\u001b[1;33m\u001b[0m\u001b[1;33m\u001b[0m\u001b[0m\n\u001b[0m",
      "\u001b[1;31mStopIteration\u001b[0m: "
     ]
    }
   ],
   "source": [
    "next(g)"
   ]
  },
  {
   "cell_type": "markdown",
   "id": "623e76e7",
   "metadata": {},
   "source": [
    "当到达序列的结尾时，next会抛出一个StopIteration异常。<br>\n",
    "可以使用for循环来遍历所有值。"
   ]
  },
  {
   "cell_type": "code",
   "execution_count": 16,
   "id": "cd2e0fa6",
   "metadata": {},
   "outputs": [
    {
     "name": "stdout",
     "output_type": "stream",
     "text": [
      "0\n",
      "1\n",
      "4\n",
      "9\n",
      "16\n"
     ]
    }
   ],
   "source": [
    "g = (x**2 for x in range(5))\n",
    "for val in g:\n",
    "    print(val)"
   ]
  },
  {
   "cell_type": "markdown",
   "id": "3383a69f",
   "metadata": {},
   "source": [
    "生成器表达式经常和sum、max和min之类的函数配合使用。"
   ]
  },
  {
   "cell_type": "code",
   "execution_count": 17,
   "id": "6e751d23",
   "metadata": {},
   "outputs": [
    {
     "data": {
      "text/plain": [
       "30"
      ]
     },
     "execution_count": 17,
     "metadata": {},
     "output_type": "execute_result"
    }
   ],
   "source": [
    "sum(x**2 for x in range(5))"
   ]
  },
  {
   "cell_type": "code",
   "execution_count": 18,
   "id": "d578c745",
   "metadata": {},
   "outputs": [
    {
     "data": {
      "text/plain": [
       "16"
      ]
     },
     "execution_count": 18,
     "metadata": {},
     "output_type": "execute_result"
    }
   ],
   "source": [
    "max(x**2 for x in range(5))"
   ]
  },
  {
   "cell_type": "code",
   "execution_count": 19,
   "id": "647904ae",
   "metadata": {},
   "outputs": [
    {
     "data": {
      "text/plain": [
       "0"
      ]
     },
     "execution_count": 19,
     "metadata": {},
     "output_type": "execute_result"
    }
   ],
   "source": [
    "min(x**2 for x in range(5))"
   ]
  },
  {
   "cell_type": "markdown",
   "id": "2d967963",
   "metadata": {},
   "source": [
    "## 19.4 any和all\n"
   ]
  },
  {
   "cell_type": "code",
   "execution_count": 20,
   "id": "c275c249",
   "metadata": {},
   "outputs": [
    {
     "name": "stdout",
     "output_type": "stream",
     "text": [
      "p\n",
      "y\n",
      "t\n",
      "h\n",
      "o\n",
      "n\n"
     ]
    }
   ],
   "source": [
    "word = 'python'\n",
    "for letter in word:\n",
    "    print(letter)"
   ]
  },
  {
   "cell_type": "code",
   "execution_count": 21,
   "id": "993fb502",
   "metadata": {},
   "outputs": [
    {
     "data": {
      "text/plain": [
       "False"
      ]
     },
     "execution_count": 21,
     "metadata": {},
     "output_type": "execute_result"
    }
   ],
   "source": [
    "'p' in 'forbidden'"
   ]
  }
 ],
 "metadata": {
  "kernelspec": {
   "display_name": "Python 3",
   "language": "python",
   "name": "python3"
  },
  "language_info": {
   "codemirror_mode": {
    "name": "ipython",
    "version": 3
   },
   "file_extension": ".py",
   "mimetype": "text/x-python",
   "name": "python",
   "nbconvert_exporter": "python",
   "pygments_lexer": "ipython3",
   "version": "3.8.8"
  }
 },
 "nbformat": 4,
 "nbformat_minor": 5
}
