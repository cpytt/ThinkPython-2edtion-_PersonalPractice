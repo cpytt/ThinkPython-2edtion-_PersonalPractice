{
 "cells": [
  {
   "cell_type": "markdown",
   "id": "1e18bc68",
   "metadata": {},
   "source": [
    "# 第10章 列表"
   ]
  },
  {
   "cell_type": "markdown",
   "id": "f538ab9e",
   "metadata": {},
   "source": [
    "## 10.1 列表是一个序列  \n",
    "与字符串类似，列表（list）是值的序列。  \n",
    "在字符串中，这些值是字符；在列表中。可以是任何类型。  \n",
    "列表中的值称为**元素（element）**，有时也称为**列表项（item）**。"
   ]
  },
  {
   "cell_type": "code",
   "execution_count": 4,
   "id": "081d510d",
   "metadata": {},
   "outputs": [],
   "source": [
    "list1 = ['spam',2.0,5,[10,20]]"
   ]
  },
  {
   "cell_type": "markdown",
   "id": "0b660449",
   "metadata": {},
   "source": [
    "上面这个列表是**嵌套的（nested）**。"
   ]
  },
  {
   "cell_type": "code",
   "execution_count": 3,
   "id": "46ec4e80",
   "metadata": {},
   "outputs": [
    {
     "name": "stdout",
     "output_type": "stream",
     "text": [
      "['spam', 2.0, 5, [10, 20]] []\n"
     ]
    }
   ],
   "source": [
    "empty = [    ] # 空列表\n",
    "print(l1,empty)"
   ]
  },
  {
   "cell_type": "markdown",
   "id": "dd1aca21",
   "metadata": {},
   "source": [
    "## 10.2 列表是可变的\n",
    "与字符串不同的是，列表是可变的。  \n",
    "可以使用方括号操作符[ ]指定列表中的哪个元素被赋值。"
   ]
  },
  {
   "cell_type": "code",
   "execution_count": 5,
   "id": "3a6af6f1",
   "metadata": {},
   "outputs": [
    {
     "data": {
      "text/plain": [
       "['ok', 2.0, 5, [10, 20]]"
      ]
     },
     "execution_count": 5,
     "metadata": {},
     "output_type": "execute_result"
    }
   ],
   "source": [
    "list1[0]='ok'\n",
    "list1"
   ]
  },
  {
   "cell_type": "markdown",
   "id": "a775a566",
   "metadata": {},
   "source": [
    "in操作符同样也可以用于列表。"
   ]
  },
  {
   "cell_type": "code",
   "execution_count": 6,
   "id": "9c7c408d",
   "metadata": {},
   "outputs": [
    {
     "data": {
      "text/plain": [
       "True"
      ]
     },
     "execution_count": 6,
     "metadata": {},
     "output_type": "execute_result"
    }
   ],
   "source": [
    "2 in list1"
   ]
  },
  {
   "cell_type": "code",
   "execution_count": 8,
   "id": "c3452f03",
   "metadata": {},
   "outputs": [
    {
     "data": {
      "text/plain": [
       "True"
      ]
     },
     "execution_count": 8,
     "metadata": {},
     "output_type": "execute_result"
    }
   ],
   "source": [
    "[10,20] in list1"
   ]
  },
  {
   "cell_type": "markdown",
   "id": "1eb9c0e6",
   "metadata": {},
   "source": [
    "## 10.3 遍历一个列表\n",
    "遍历一个列表元素最常用的方式是使用for循环。"
   ]
  },
  {
   "cell_type": "code",
   "execution_count": 9,
   "id": "84839084",
   "metadata": {},
   "outputs": [
    {
     "name": "stdout",
     "output_type": "stream",
     "text": [
      "ok\n",
      "2.0\n",
      "5\n",
      "[10, 20]\n"
     ]
    }
   ],
   "source": [
    "for i in list1:\n",
    "    print(i)"
   ]
  },
  {
   "cell_type": "markdown",
   "id": "56d36f57",
   "metadata": {},
   "source": [
    "如果需要写入或者更新元素时，则需要下标。  \n",
    "一个常见的方式是使用内置函数range和len。"
   ]
  },
  {
   "cell_type": "code",
   "execution_count": 12,
   "id": "07efe945",
   "metadata": {},
   "outputs": [
    {
     "name": "stdout",
     "output_type": "stream",
     "text": [
      "2\n",
      "4\n",
      "6\n",
      "8\n"
     ]
    }
   ],
   "source": [
    "numbers = [1,2,3,4]\n",
    "for i in range(len(numbers)):\n",
    "    numbers[i] = numbers[i] * 2\n",
    "    print(numbers[i])"
   ]
  },
  {
   "cell_type": "markdown",
   "id": "822ef433",
   "metadata": {},
   "source": [
    "嵌套的列表仍被看作一个单独的元素"
   ]
  },
  {
   "cell_type": "code",
   "execution_count": 15,
   "id": "5f0e22f6",
   "metadata": {},
   "outputs": [
    {
     "data": {
      "text/plain": [
       "([10, 20], 4)"
      ]
     },
     "execution_count": 15,
     "metadata": {},
     "output_type": "execute_result"
    }
   ],
   "source": [
    "list1[3],len(list1)"
   ]
  },
  {
   "cell_type": "markdown",
   "id": "4e35c10c",
   "metadata": {},
   "source": [
    "## 10.4 列表操作\n",
    "  +操作符可以拼接列表"
   ]
  },
  {
   "cell_type": "code",
   "execution_count": 16,
   "id": "673c2334",
   "metadata": {},
   "outputs": [
    {
     "data": {
      "text/plain": [
       "['ok', 2.0, 5, [10, 20], 2, 4, 6, 8]"
      ]
     },
     "execution_count": 16,
     "metadata": {},
     "output_type": "execute_result"
    }
   ],
   "source": [
    "list2 = list1 + numbers\n",
    "list2"
   ]
  },
  {
   "cell_type": "markdown",
   "id": "4dee7ddf",
   "metadata": {},
   "source": [
    "\\*操作符重复一个列表多次"
   ]
  },
  {
   "cell_type": "code",
   "execution_count": 17,
   "id": "60efeb62",
   "metadata": {},
   "outputs": [
    {
     "data": {
      "text/plain": [
       "[0, 0, 0, 0, 0]"
      ]
     },
     "execution_count": 17,
     "metadata": {},
     "output_type": "execute_result"
    }
   ],
   "source": [
    "[0]*5"
   ]
  },
  {
   "cell_type": "markdown",
   "id": "6411f910",
   "metadata": {},
   "source": [
    "## 10.5 列表切片"
   ]
  },
  {
   "cell_type": "code",
   "execution_count": 31,
   "id": "8c4ea94e",
   "metadata": {},
   "outputs": [],
   "source": [
    "t = ['a','b','c','d','e','f']"
   ]
  },
  {
   "cell_type": "code",
   "execution_count": 32,
   "id": "24186d5d",
   "metadata": {},
   "outputs": [
    {
     "data": {
      "text/plain": [
       "['b', 'c']"
      ]
     },
     "execution_count": 32,
     "metadata": {},
     "output_type": "execute_result"
    }
   ],
   "source": [
    "t[1:3]"
   ]
  },
  {
   "cell_type": "code",
   "execution_count": 33,
   "id": "75e09c3c",
   "metadata": {},
   "outputs": [
    {
     "data": {
      "text/plain": [
       "['d', 'e', 'f']"
      ]
     },
     "execution_count": 33,
     "metadata": {},
     "output_type": "execute_result"
    }
   ],
   "source": [
    "t[3:]"
   ]
  },
  {
   "cell_type": "code",
   "execution_count": 34,
   "id": "5a953bed",
   "metadata": {},
   "outputs": [
    {
     "data": {
      "text/plain": [
       "['a', 'b', 'c', 'd']"
      ]
     },
     "execution_count": 34,
     "metadata": {},
     "output_type": "execute_result"
    }
   ],
   "source": [
    "t[:4]"
   ]
  },
  {
   "cell_type": "code",
   "execution_count": 35,
   "id": "6b2e31d3",
   "metadata": {},
   "outputs": [
    {
     "data": {
      "text/plain": [
       "['a', 'b', 'c', 'd']"
      ]
     },
     "execution_count": 35,
     "metadata": {},
     "output_type": "execute_result"
    }
   ],
   "source": [
    "t[:-2]"
   ]
  },
  {
   "cell_type": "markdown",
   "id": "e00fe1a9",
   "metadata": {},
   "source": [
    "切片操作符出现在赋值语句的左侧，可以更新多个元素。"
   ]
  },
  {
   "cell_type": "code",
   "execution_count": 36,
   "id": "f355d704",
   "metadata": {},
   "outputs": [],
   "source": [
    "t[1:3]=['x']"
   ]
  },
  {
   "cell_type": "code",
   "execution_count": 37,
   "id": "981071c4",
   "metadata": {},
   "outputs": [
    {
     "data": {
      "text/plain": [
       "(['a', 'x', 'd', 'e', 'f'], 5)"
      ]
     },
     "execution_count": 37,
     "metadata": {},
     "output_type": "execute_result"
    }
   ],
   "source": [
    "t,len(t)"
   ]
  },
  {
   "cell_type": "markdown",
   "id": "1a5fdc10",
   "metadata": {},
   "source": [
    "## 10.6 列表方法\n",
    "`s.append(x)`:将 x 添加到序列的末尾 (等同于 `s[len(s):len(s)] = [x]`)"
   ]
  },
  {
   "cell_type": "code",
   "execution_count": 38,
   "id": "9f4d994d",
   "metadata": {},
   "outputs": [
    {
     "data": {
      "text/plain": [
       "['a', 'b', 'c', 'd']"
      ]
     },
     "execution_count": 38,
     "metadata": {},
     "output_type": "execute_result"
    }
   ],
   "source": [
    "t = ['a','b','c']\n",
    "t.append('d')\n",
    "t"
   ]
  },
  {
   "cell_type": "markdown",
   "id": "f36fe1cf",
   "metadata": {},
   "source": [
    "`s.extend(t)` 或 `s += t` :用 t 的内容扩展 s (基本上等同于 `s[len(s):len(s)] = t`)"
   ]
  },
  {
   "cell_type": "code",
   "execution_count": 39,
   "id": "6915e88d",
   "metadata": {},
   "outputs": [
    {
     "data": {
      "text/plain": [
       "['a', 'b', 'c', 'd', 'e']"
      ]
     },
     "execution_count": 39,
     "metadata": {},
     "output_type": "execute_result"
    }
   ],
   "source": [
    "t1 = ['a','b','c']\n",
    "t2 = ['d','e']\n",
    "t1.extend(t2)\n",
    "t1"
   ]
  },
  {
   "cell_type": "markdown",
   "id": "5a9421c6",
   "metadata": {},
   "source": [
    "## 10.7 映射（map）、过滤（filter）和化简（reduce）\n",
    "- 如果想把列表中的所有元素加起来，可以使用下面这样的循环：  \n",
    "随着循环的进行，total会累积列表中的值的和；这样使用一个变量有时称为**累加器（accumulator）**"
   ]
  },
  {
   "cell_type": "code",
   "execution_count": 42,
   "id": "2d18abbf",
   "metadata": {},
   "outputs": [],
   "source": [
    "def add_all(t):\n",
    "    total = 0\n",
    "    for x in t:\n",
    "        total += x \n",
    "    return total"
   ]
  },
  {
   "cell_type": "code",
   "execution_count": 43,
   "id": "df1568f1",
   "metadata": {},
   "outputs": [
    {
     "data": {
      "text/plain": [
       "6"
      ]
     },
     "execution_count": 43,
     "metadata": {},
     "output_type": "execute_result"
    }
   ],
   "source": [
    "t = [1,2,3]\n",
    "add_all(t)"
   ]
  },
  {
   "cell_type": "markdown",
   "id": "9975aece",
   "metadata": {},
   "source": [
    "对列表元素累加，Python提供了一个内置函数`sum()`"
   ]
  },
  {
   "cell_type": "code",
   "execution_count": 44,
   "id": "ff60914d",
   "metadata": {},
   "outputs": [
    {
     "data": {
      "text/plain": [
       "6"
      ]
     },
     "execution_count": 44,
     "metadata": {},
     "output_type": "execute_result"
    }
   ],
   "source": [
    "sum(t)"
   ]
  },
  {
   "cell_type": "markdown",
   "id": "9b27a93e",
   "metadata": {},
   "source": [
    "类似这样，将一个序列的元素值合起来到一个单独的变量的操作，有时称为**化简(reduce)**"
   ]
  },
  {
   "cell_type": "markdown",
   "id": "4d5b008a",
   "metadata": {},
   "source": [
    "- 下面的函数接收一个字符串列表，并返回一个新列表，其元素是大写的字符串："
   ]
  },
  {
   "cell_type": "code",
   "execution_count": 45,
   "id": "3c37ffae",
   "metadata": {},
   "outputs": [],
   "source": [
    "def capitalize_all(t):\n",
    "    res = []\n",
    "    for s in t:\n",
    "        res.append(s.capitalize())\n",
    "    return res"
   ]
  },
  {
   "cell_type": "code",
   "execution_count": 47,
   "id": "923a8202",
   "metadata": {},
   "outputs": [
    {
     "data": {
      "text/plain": [
       "['A', 'B', 'C', 'De']"
      ]
     },
     "execution_count": 47,
     "metadata": {},
     "output_type": "execute_result"
    }
   ],
   "source": [
    "t = ['a','b','c','de']\n",
    "capitalize_all(t)"
   ]
  },
  {
   "cell_type": "markdown",
   "id": "ae498c10",
   "metadata": {},
   "source": [
    "类似`capitalize_all`这样的操作被称为**映射（map）**，它将一个函数（这里是`capitalize`方法）“映射”到一个序列的每个元素上。"
   ]
  },
  {
   "cell_type": "markdown",
   "id": "fbda3f77",
   "metadata": {},
   "source": [
    "- 下面的函数接收一个字符串列表，并返回那些只包含有大写字母的字符串："
   ]
  },
  {
   "cell_type": "code",
   "execution_count": 48,
   "id": "1a8986dc",
   "metadata": {},
   "outputs": [],
   "source": [
    "def only_upper(t):\n",
    "    res = []\n",
    "    for s in t:\n",
    "        if s.isupper():\n",
    "            res.append(s)\n",
    "    return res"
   ]
  },
  {
   "cell_type": "code",
   "execution_count": 49,
   "id": "abd9978f",
   "metadata": {},
   "outputs": [
    {
     "data": {
      "text/plain": [
       "['B', 'DE']"
      ]
     },
     "execution_count": 49,
     "metadata": {},
     "output_type": "execute_result"
    }
   ],
   "source": [
    "t = ['a','B','c','DE','Gh']\n",
    "only_upper(t)"
   ]
  },
  {
   "cell_type": "markdown",
   "id": "234adb1e",
   "metadata": {},
   "source": [
    "类似`only_upper`这样的操作称为**过滤(filter)**,因为它选择列表中的某些元素，并过滤掉其他的元素。  \n",
    "`str.ispper()`是一个字符串方法，当字符串中只包含大写字母时返回True。"
   ]
  },
  {
   "cell_type": "markdown",
   "id": "da1754eb",
   "metadata": {},
   "source": [
    "## 10.8 删除元素\n",
    "从列表中删除元素，如果知道下标，可以使用`s.pop(i)`:提取在 i 位置上的项，并将其从 s 中移除"
   ]
  },
  {
   "cell_type": "code",
   "execution_count": 63,
   "id": "4d633c7d",
   "metadata": {},
   "outputs": [
    {
     "data": {
      "text/plain": [
       "(['a', 'c'], 'b')"
      ]
     },
     "execution_count": 63,
     "metadata": {},
     "output_type": "execute_result"
    }
   ],
   "source": [
    "t = ['a','b','c']\n",
    "x = t.pop(1)\n",
    "t,x"
   ]
  },
  {
   "cell_type": "markdown",
   "id": "dea4395a",
   "metadata": {},
   "source": [
    "不提供下标，使用`s.pop()`:删除并返回最后一个元素"
   ]
  },
  {
   "cell_type": "code",
   "execution_count": 64,
   "id": "778affe3",
   "metadata": {},
   "outputs": [
    {
     "data": {
      "text/plain": [
       "(['a'], 'c')"
      ]
     },
     "execution_count": 64,
     "metadata": {},
     "output_type": "execute_result"
    }
   ],
   "source": [
    "x = t.pop()\n",
    "t,x"
   ]
  },
  {
   "cell_type": "markdown",
   "id": "8f9cb9c6",
   "metadata": {},
   "source": [
    "如果不需要使用删除的值，可以使用`del`操作符："
   ]
  },
  {
   "cell_type": "code",
   "execution_count": 65,
   "id": "5b9f73e4",
   "metadata": {},
   "outputs": [
    {
     "data": {
      "text/plain": [
       "['a', 'c']"
      ]
     },
     "execution_count": 65,
     "metadata": {},
     "output_type": "execute_result"
    }
   ],
   "source": [
    "t = ['a','b','c']\n",
    "del t[1]\n",
    "t"
   ]
  },
  {
   "cell_type": "markdown",
   "id": "4348577c",
   "metadata": {},
   "source": [
    "如果知道要删除的元素（而不是下标），则可以使用`remove`: "
   ]
  },
  {
   "cell_type": "code",
   "execution_count": 66,
   "id": "d2f672fb",
   "metadata": {},
   "outputs": [
    {
     "data": {
      "text/plain": [
       "['a', 'c']"
      ]
     },
     "execution_count": 66,
     "metadata": {},
     "output_type": "execute_result"
    }
   ],
   "source": [
    "t = ['a','b','c']\n",
    "t.remove('b')\n",
    "t"
   ]
  },
  {
   "cell_type": "markdown",
   "id": "693e952e",
   "metadata": {},
   "source": [
    "当在 s 中找不到 x 时 remove() 操作会引发 ValueError。"
   ]
  },
  {
   "cell_type": "code",
   "execution_count": 67,
   "id": "073947fd",
   "metadata": {},
   "outputs": [
    {
     "ename": "ValueError",
     "evalue": "list.remove(x): x not in list",
     "output_type": "error",
     "traceback": [
      "\u001b[1;31m---------------------------------------------------------------------------\u001b[0m",
      "\u001b[1;31mValueError\u001b[0m                                Traceback (most recent call last)",
      "\u001b[1;32m<ipython-input-67-7a682cbfa836>\u001b[0m in \u001b[0;36m<module>\u001b[1;34m\u001b[0m\n\u001b[1;32m----> 1\u001b[1;33m \u001b[0mt\u001b[0m\u001b[1;33m.\u001b[0m\u001b[0mremove\u001b[0m\u001b[1;33m(\u001b[0m\u001b[1;34m'd'\u001b[0m\u001b[1;33m)\u001b[0m\u001b[1;33m\u001b[0m\u001b[1;33m\u001b[0m\u001b[0m\n\u001b[0m",
      "\u001b[1;31mValueError\u001b[0m: list.remove(x): x not in list"
     ]
    }
   ],
   "source": [
    "t.remove('d')"
   ]
  },
  {
   "cell_type": "markdown",
   "id": "12b0bb59",
   "metadata": {},
   "source": [
    "若要删除多个元素，可以使用`del`和切片下标："
   ]
  },
  {
   "cell_type": "code",
   "execution_count": 68,
   "id": "2589b7f5",
   "metadata": {},
   "outputs": [
    {
     "data": {
      "text/plain": [
       "['a', 'f']"
      ]
     },
     "execution_count": 68,
     "metadata": {},
     "output_type": "execute_result"
    }
   ],
   "source": [
    "t = ['a','b','c','d','e','f']\n",
    "del t[1:5]\n",
    "t"
   ]
  },
  {
   "cell_type": "markdown",
   "id": "d345336e",
   "metadata": {},
   "source": [
    "## 10.9 列表和字符串\n",
    "字符串是字符的序列，列表是值的序列。  \n",
    "字符的列表和字符串并不相同，若要将一个字符串转换成一个字符的列表，可以使用内置函数`lsit`："
   ]
  },
  {
   "cell_type": "code",
   "execution_count": 82,
   "id": "1d4885c8",
   "metadata": {},
   "outputs": [
    {
     "data": {
      "text/plain": [
       "['s', 'p', 'a', 'm']"
      ]
     },
     "execution_count": 82,
     "metadata": {},
     "output_type": "execute_result"
    }
   ],
   "source": [
    "s = 'spam'\n",
    "t = list(s)\n",
    "t"
   ]
  },
  {
   "cell_type": "markdown",
   "id": "903b8384",
   "metadata": {},
   "source": [
    "`list`函数会将字符串拆成单个字母。如果先要将字符串拆成单词，可以使用`str.split()`方法：\n"
   ]
  },
  {
   "cell_type": "code",
   "execution_count": 88,
   "id": "bc122886",
   "metadata": {},
   "outputs": [
    {
     "data": {
      "text/plain": [
       "(['p', 'i', 'n', 'i', 'n', 'g', ' ', 'f', 'o', 'r', ' ', 't', 'h', 'e'],\n",
       " ['pining', 'for', 'the'])"
      ]
     },
     "execution_count": 88,
     "metadata": {},
     "output_type": "execute_result"
    }
   ],
   "source": [
    "s = 'pining for the'\n",
    "t1 = list(s)\n",
    "t2 = s.split()\n",
    "t1,t2"
   ]
  },
  {
   "cell_type": "markdown",
   "id": "b5d1b6ce",
   "metadata": {},
   "source": [
    "`str.split()`接受一个可选的形参，称为**分隔符（delimiter）**，用于指定用哪个字符来分隔单词。<br>\n",
    "下列的例子中使用连字符（`-`）作为分隔符："
   ]
  },
  {
   "cell_type": "code",
   "execution_count": 89,
   "id": "b15d5e09",
   "metadata": {},
   "outputs": [
    {
     "data": {
      "text/plain": [
       "['spam', 'spam', 'spam']"
      ]
     },
     "execution_count": 89,
     "metadata": {},
     "output_type": "execute_result"
    }
   ],
   "source": [
    "s = 'spam-spam-spam'\n",
    "t = s.split('-')\n",
    "t"
   ]
  },
  {
   "cell_type": "markdown",
   "id": "b023f6d1",
   "metadata": {},
   "source": [
    "`str.join()`是`str.split()`的逆操作。接收字符串列表，并拼接每个元素。<br>\n",
    "`str.join()`是字符串的方法，所以必须在分隔符上调用它，并传入列表作为实参："
   ]
  },
  {
   "cell_type": "code",
   "execution_count": 91,
   "id": "effe265d",
   "metadata": {},
   "outputs": [
    {
     "data": {
      "text/plain": [
       "('pining for the fjords', 'pining-for-the-fjords')"
      ]
     },
     "execution_count": 91,
     "metadata": {},
     "output_type": "execute_result"
    }
   ],
   "source": [
    "t =['pining','for','the','fjords']\n",
    "s1 = ' '.join(t)\n",
    "s2 = '-'.join(t)\n",
    "s1,s2"
   ]
  },
  {
   "cell_type": "markdown",
   "id": "dda5c76b",
   "metadata": {},
   "source": [
    "## 10.10 对象和值"
   ]
  },
  {
   "cell_type": "code",
   "execution_count": 92,
   "id": "87c9c238",
   "metadata": {},
   "outputs": [],
   "source": [
    "a = 'banana'\n",
    "b = 'banana'"
   ]
  },
  {
   "cell_type": "markdown",
   "id": "5460ac2b",
   "metadata": {},
   "source": [
    "![状态图](https://www.greenteapress.com/thinkpython2/html/thinkpython2012.png)<br>\n",
    "我们知道a和b都是一个字符串的引用。但我们不知道他们是否指向同一个字符串。有以上两种可能的状态:<br>\n",
    "1. a和b引用着不同的对象，他们的值相同。\n",
    "2. a和b指向同一个对象。"
   ]
  },
  {
   "cell_type": "code",
   "execution_count": 93,
   "id": "f55218a0",
   "metadata": {},
   "outputs": [
    {
     "data": {
      "text/plain": [
       "True"
      ]
     },
     "execution_count": 93,
     "metadata": {},
     "output_type": "execute_result"
    }
   ],
   "source": [
    "a is b"
   ]
  },
  {
   "cell_type": "markdown",
   "id": "74deb38e",
   "metadata": {},
   "source": [
    "只建立了**一个字符串对象**，a和b都引用它。"
   ]
  },
  {
   "cell_type": "code",
   "execution_count": 94,
   "id": "42ece175",
   "metadata": {},
   "outputs": [
    {
     "data": {
      "text/plain": [
       "False"
      ]
     },
     "execution_count": 94,
     "metadata": {},
     "output_type": "execute_result"
    }
   ],
   "source": [
    "a = [1,2,3]\n",
    "b = [1,2,3]\n",
    "a is b"
   ]
  },
  {
   "cell_type": "markdown",
   "id": "d65e6b25",
   "metadata": {},
   "source": [
    "![状态图](https://www.greenteapress.com/thinkpython2/html/thinkpython2013.png)\n",
    "在这个例子中，这两个列表是**相等的（equivalent）**,因为它们有相同的元素，但它们不是**相同的（identical）**，因为它们并**不是一个对象**。"
   ]
  },
  {
   "cell_type": "markdown",
   "id": "96b925d5",
   "metadata": {},
   "source": [
    "## 10.11 别名\n",
    "如果`a`引用一个对象，赋值`b = a`，则两个变量都会引用同一个对象："
   ]
  },
  {
   "cell_type": "code",
   "execution_count": 97,
   "id": "994a15b1",
   "metadata": {},
   "outputs": [
    {
     "data": {
      "text/plain": [
       "True"
      ]
     },
     "execution_count": 97,
     "metadata": {},
     "output_type": "execute_result"
    }
   ],
   "source": [
    "a = [1,2,3]\n",
    "b = a\n",
    "b is a"
   ]
  },
  {
   "cell_type": "markdown",
   "id": "b601ef76",
   "metadata": {},
   "source": [
    "![状态图](https://www.greenteapress.com/thinkpython2/html/thinkpython2014.png)\n",
    "变量和对象之间的关联关系称为**引用（reference）**。<br>\n",
    "在上面这个例子中，有两个指向同一个对象的引用。<br>\n",
    "当一个对象有多个引用，并且引用有不同的名称时，则这个变量有**别名（aliased）**。"
   ]
  },
  {
   "cell_type": "code",
   "execution_count": 99,
   "id": "e799f429",
   "metadata": {},
   "outputs": [
    {
     "data": {
      "text/plain": [
       "[42, 2, 3]"
      ]
     },
     "execution_count": 99,
     "metadata": {},
     "output_type": "execute_result"
    }
   ],
   "source": [
    "b[0]=42\n",
    "a"
   ]
  },
  {
   "cell_type": "markdown",
   "id": "74dd2bcb",
   "metadata": {},
   "source": [
    "如果有别名的对象是可变的，则对一个别名的修改会影响另一个。<br>\n",
    "通常来说，当处理可变对象时，避免使用别名会更加安全。"
   ]
  },
  {
   "cell_type": "markdown",
   "id": "140ee361",
   "metadata": {},
   "source": [
    "对于字符串这样的不可变对象，别名则不会带来问题。"
   ]
  },
  {
   "cell_type": "code",
   "execution_count": 100,
   "id": "fe9a4dd6",
   "metadata": {},
   "outputs": [],
   "source": [
    "a = 'banana'\n",
    "b = 'banana'"
   ]
  },
  {
   "cell_type": "markdown",
   "id": "283199d0",
   "metadata": {},
   "source": [
    "## 10.12 列表参数\n",
    "将一个列表传递给函数，函数会得到列表的一个引用。如果函数中修改了该列表，则调用者也会看到这个修改。<br>\n",
    "`delete_head`函数删除列表中的第一个元素:"
   ]
  },
  {
   "cell_type": "code",
   "execution_count": 102,
   "id": "2e9fa0ef",
   "metadata": {},
   "outputs": [
    {
     "data": {
      "text/plain": [
       "['b', 'c']"
      ]
     },
     "execution_count": 102,
     "metadata": {},
     "output_type": "execute_result"
    }
   ],
   "source": [
    "def delete_head(t):\n",
    "    del t[0]\n",
    "    \n",
    "letters = ['a','b','c']\n",
    "delete_head(letters)\n",
    "letters"
   ]
  },
  {
   "cell_type": "markdown",
   "id": "037baf79",
   "metadata": {},
   "source": [
    "参数`t`和变量`letters`是同一个对象的别名。\n",
    "![栈图](https://www.greenteapress.com/thinkpython2/html/thinkpython2015.png)"
   ]
  },
  {
   "cell_type": "markdown",
   "id": "dd3aa066",
   "metadata": {},
   "source": [
    "注意区分：`str.append()`方法修改列表，`+`操作符新建列表(原始列表不变)："
   ]
  },
  {
   "cell_type": "code",
   "execution_count": 108,
   "id": "07fe5f55",
   "metadata": {},
   "outputs": [
    {
     "data": {
      "text/plain": [
       "(None, [1, 2, 3])"
      ]
     },
     "execution_count": 108,
     "metadata": {},
     "output_type": "execute_result"
    }
   ],
   "source": [
    "t1 = [1,2]\n",
    "t2 = t1.append(3)\n",
    "t2,t1"
   ]
  },
  {
   "cell_type": "code",
   "execution_count": 109,
   "id": "0ca56e6d",
   "metadata": {},
   "outputs": [
    {
     "data": {
      "text/plain": [
       "([1, 2, 3, 4], [1, 2, 3])"
      ]
     },
     "execution_count": 109,
     "metadata": {},
     "output_type": "execute_result"
    }
   ],
   "source": [
    "t3 = t1 + [4]\n",
    "t3,t1"
   ]
  },
  {
   "cell_type": "markdown",
   "id": "741f6e91",
   "metadata": {},
   "source": [
    "这个区别，在编写希望修改列表的函数十分重要。例如，下面的函数并不会删除列表的开头："
   ]
  },
  {
   "cell_type": "code",
   "execution_count": 110,
   "id": "634da1ef",
   "metadata": {},
   "outputs": [
    {
     "data": {
      "text/plain": [
       "[1, 2, 3]"
      ]
     },
     "execution_count": 110,
     "metadata": {},
     "output_type": "execute_result"
    }
   ],
   "source": [
    "def bad_delete_head(t):\n",
    "    t = t[1:]\n",
    "\n",
    "t4 = [1,2,3]\n",
    "bad_delete_head(t4)\n",
    "t4"
   ]
  },
  {
   "cell_type": "markdown",
   "id": "1c1377b9",
   "metadata": {},
   "source": [
    "t和t4指向同一个列表。在函数最后，t指向了一个新的列表，但t4仍指向原先那个没有改变的列表"
   ]
  },
  {
   "cell_type": "markdown",
   "id": "ccc51506",
   "metadata": {},
   "source": [
    "另外有一个方法是编写函数创建和返回一个新的列表。例如，tail返回除了第一个元素以外所有元素的列表："
   ]
  },
  {
   "cell_type": "code",
   "execution_count": 111,
   "id": "d931f1e0",
   "metadata": {},
   "outputs": [
    {
     "data": {
      "text/plain": [
       "['b', 'c']"
      ]
     },
     "execution_count": 111,
     "metadata": {},
     "output_type": "execute_result"
    }
   ],
   "source": [
    "def tail(t):\n",
    "    return t[1:]\n",
    "\n",
    "letters = ['a','b','c']\n",
    "rest = tail(letters)\n",
    "rest"
   ]
  },
  {
   "cell_type": "markdown",
   "id": "29c22e33",
   "metadata": {},
   "source": [
    "## 10.14 术语表\n",
    "- 列表（list）\n",
    "- 元素（element）\n",
    "- 嵌套列表（nested list）\n",
    "- 累加器（accumulator）\n",
    "- 增加赋值（augmented assignment）\n",
    "- 化简（reduce）\n",
    "- 映射（map）\n",
    "- 过滤（filter）\n",
    "- 对象（object）\n",
    "- 相等（equivalent）\n",
    "- 相同（identical）\n",
    "- 引用（reference）\n",
    "- 别名（aliasing）\n",
    "- 分隔符（delimiter）"
   ]
  }
 ],
 "metadata": {
  "kernelspec": {
   "display_name": "Python 3",
   "language": "python",
   "name": "python3"
  },
  "language_info": {
   "codemirror_mode": {
    "name": "ipython",
    "version": 3
   },
   "file_extension": ".py",
   "mimetype": "text/x-python",
   "name": "python",
   "nbconvert_exporter": "python",
   "pygments_lexer": "ipython3",
   "version": "3.8.8"
  }
 },
 "nbformat": 4,
 "nbformat_minor": 5
}
