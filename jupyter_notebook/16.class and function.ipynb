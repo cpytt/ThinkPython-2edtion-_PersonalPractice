{
 "cells": [
  {
   "cell_type": "markdown",
   "id": "a82b2686",
   "metadata": {},
   "source": [
    "# 第十六章 类和函数\n",
    "## 16.1 时间\n",
    "编写一个print_time的函数，接收一个Time对象作为形参并以“hour：minute：second”的格式打印。<br>\n",
    "提示：格式序列'%.2d'可以以最少两个字符打印一个整数，如果需要，会在前面添加前缀0。<br>\n",
    "\n",
    "上述提示用的是旧式字符串格式化方法，应采用新的两种字符串格式方法：**1.f-string 2.str.format**<br>\n",
    "旧式字符串格式化方法 ：https://docs.python.org/zh-cn/3/library/stdtypes.html#printf-style-string-formatting\n",
    "1. f-string：https://docs.python.org/zh-cn/3/reference/lexical_analysis.html#f-strings\n",
    "2. str.format:https://docs.python.org/zh-cn/3/library/stdtypes.html#str.format"
   ]
  },
  {
   "cell_type": "code",
   "execution_count": 11,
   "id": "f0269565",
   "metadata": {},
   "outputs": [],
   "source": [
    "class Time:\n",
    "    def __init__(self,hour,minute,second):\n",
    "        self.hour =  hour\n",
    "        self.minute = minute\n",
    "        self.second = second\n",
    "        \n",
    "    def print_time(self):\n",
    "        print('{:02}:{:02}:{:02}'.format(self.hour,self.minute,self.second))\n",
    "        \n",
    "    def time_to_int(self):\n",
    "        minutes = self.hour*60 + self.minute\n",
    "        seconds = minutes*60 + self.second\n",
    "        return seconds\n",
    "    \n",
    "    def is_after(self,other):\n",
    "        return self.time_to_int() > other.time_to_int()"
   ]
  },
  {
   "cell_type": "code",
   "execution_count": 12,
   "id": "f12731c5",
   "metadata": {},
   "outputs": [
    {
     "name": "stdout",
     "output_type": "stream",
     "text": [
      "01:01:01\n"
     ]
    }
   ],
   "source": [
    "time1 = Time(1,1,1)\n",
    "time1.print_time()"
   ]
  },
  {
   "cell_type": "code",
   "execution_count": 13,
   "id": "8f063436",
   "metadata": {},
   "outputs": [
    {
     "name": "stdout",
     "output_type": "stream",
     "text": [
      "10:10:10\n"
     ]
    }
   ],
   "source": [
    "time2 = Time(10,10,10)\n",
    "time2.print_time()"
   ]
  },
  {
   "cell_type": "markdown",
   "id": "0514ba5c",
   "metadata": {},
   "source": [
    "编写一个布尔函数is_after，接收两个Time对象。t1和t2，若t1在t2时间之后返则返回True，否则返回False。挑战：不用if表达式"
   ]
  },
  {
   "cell_type": "code",
   "execution_count": 14,
   "id": "e691e597",
   "metadata": {},
   "outputs": [
    {
     "data": {
      "text/plain": [
       "False"
      ]
     },
     "execution_count": 14,
     "metadata": {},
     "output_type": "execute_result"
    }
   ],
   "source": [
    "time1.is_after(time2)"
   ]
  },
  {
   "cell_type": "markdown",
   "id": "035956c6",
   "metadata": {},
   "source": [
    "## 16.2 纯函数\n",
    "编写两个用来增加时间值的函数。<br>\n",
    "展示两种不同类型的函数：**纯函数**和**修改器**。<br>\n",
    "展示称为**原型**和**补丁**的开发计划。\n",
    "\n",
    "下面是add_time的一个简单原型:<br>\n",
    "这个函数创建一个新的Time对象，并返回这个新对象的一个引用。这被称为一个**纯函数**。<br>\n",
    "除了返回一个值之外，并不修改作为实参传入的任何对象，也没有任何如显示值或获得用户输入之类的副作用。"
   ]
  },
  {
   "cell_type": "code",
   "execution_count": 15,
   "id": "6e25db59",
   "metadata": {},
   "outputs": [],
   "source": [
    "def add_time(t1,t2):\n",
    "    sum = Time(t1.hour+t2.hour , t1.minute+t2.minute , t1.second+t2.second)\n",
    "    return sum"
   ]
  },
  {
   "cell_type": "markdown",
   "id": "7694f163",
   "metadata": {},
   "source": [
    "创建两个time对象：<br>\n",
    "start存放一个电影的开始时间<br>\n",
    "duration存放电影的播放时间<br>\n",
    "\n",
    "add_time计算出电影何时结束"
   ]
  },
  {
   "cell_type": "code",
   "execution_count": 16,
   "id": "d581c710",
   "metadata": {},
   "outputs": [
    {
     "name": "stdout",
     "output_type": "stream",
     "text": [
      "10:80:00\n"
     ]
    }
   ],
   "source": [
    "start = Time(9,45,0)\n",
    "duration = Time(1,35,0)\n",
    "done = add_time(start,duration)\n",
    "done.print_time()"
   ]
  },
  {
   "cell_type": "markdown",
   "id": "a1fcf856",
   "metadata": {},
   "source": [
    "结果10:80:00中分钟超过了60，所以我们需要改进add_time函数。"
   ]
  },
  {
   "cell_type": "code",
   "execution_count": 19,
   "id": "58ed3bf7",
   "metadata": {},
   "outputs": [],
   "source": [
    "def add_time(t1,t2):\n",
    "    sum = Time(0,0,0)\n",
    "    \n",
    "    sum.second = t1.second + t2.second\n",
    "    sum.minute = t1.minute + t2.minute \n",
    "    sum.hour = t1.hour + t2.hour \n",
    "    \n",
    "    if sum.second >= 60:\n",
    "        sum.second-=60\n",
    "        sum.miunte+=1\n",
    "    if sum.minute >= 60:\n",
    "        sum.minute-=60\n",
    "        sum.hour+=1\n",
    "        \n",
    "    return sum"
   ]
  },
  {
   "cell_type": "code",
   "execution_count": 20,
   "id": "f12a0bd4",
   "metadata": {},
   "outputs": [
    {
     "name": "stdout",
     "output_type": "stream",
     "text": [
      "11:20:00\n"
     ]
    }
   ],
   "source": [
    "start = Time(9,45,0)\n",
    "duration = Time(1,35,0)\n",
    "done = add_time(start,duration)\n",
    "done.print_time()"
   ]
  },
  {
   "cell_type": "code",
   "execution_count": null,
   "id": "c938da53",
   "metadata": {},
   "outputs": [],
   "source": []
  }
 ],
 "metadata": {
  "kernelspec": {
   "display_name": "Python 3",
   "language": "python",
   "name": "python3"
  },
  "language_info": {
   "codemirror_mode": {
    "name": "ipython",
    "version": 3
   },
   "file_extension": ".py",
   "mimetype": "text/x-python",
   "name": "python",
   "nbconvert_exporter": "python",
   "pygments_lexer": "ipython3",
   "version": "3.8.8"
  }
 },
 "nbformat": 4,
 "nbformat_minor": 5
}
