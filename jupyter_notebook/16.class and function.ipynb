{
 "cells": [
  {
   "cell_type": "markdown",
   "id": "a82b2686",
   "metadata": {},
   "source": [
    "# 第十六章 类和函数\n",
    "## 16.1 时间\n",
    "编写一个print_time的函数，接收一个Time对象作为形参并以“hour：minute：second”的格式打印。<br>\n",
    "提示：格式序列'%.2d'可以以最少两个字符打印一个整数，如果需要，会在前面添加前缀0。<br>\n",
    "\n",
    "上述提示用的是旧式字符串格式化方法，应采用新的两种字符串格式方法：**1.f-string 2.str.format**<br>\n",
    "旧式字符串格式化方法 ：https://docs.python.org/zh-cn/3/library/stdtypes.html#printf-style-string-formatting\n",
    "1. f-string：https://docs.python.org/zh-cn/3/reference/lexical_analysis.html#f-strings\n",
    "2. str.format:https://docs.python.org/zh-cn/3/library/stdtypes.html#str.format"
   ]
  },
  {
   "cell_type": "code",
   "execution_count": 100,
   "id": "f0269565",
   "metadata": {},
   "outputs": [],
   "source": [
    "class Time:\n",
    "    def __init__(self,hour,minute,second):\n",
    "        self.hour =  hour\n",
    "        self.minute = minute\n",
    "        self.second = second\n",
    "        \n",
    "    def print_time(self):\n",
    "        print('{:02}:{:02}:{:02}'.format(self.hour,self.minute,self.second))\n",
    "        \n",
    "    #     比较时间\n",
    "    def is_after(self,other):\n",
    "        return time_to_int(self) > time_to_int(other)\n",
    "    \n",
    "    "
   ]
  },
  {
   "cell_type": "code",
   "execution_count": 101,
   "id": "f12731c5",
   "metadata": {},
   "outputs": [
    {
     "name": "stdout",
     "output_type": "stream",
     "text": [
      "11:01:01\n"
     ]
    }
   ],
   "source": [
    "time1 = Time(11,1,1)\n",
    "time1.print_time()"
   ]
  },
  {
   "cell_type": "code",
   "execution_count": 102,
   "id": "8f063436",
   "metadata": {},
   "outputs": [
    {
     "name": "stdout",
     "output_type": "stream",
     "text": [
      "10:10:10\n"
     ]
    }
   ],
   "source": [
    "time2 = Time(10,10,10)\n",
    "time2.print_time()"
   ]
  },
  {
   "cell_type": "markdown",
   "id": "0514ba5c",
   "metadata": {},
   "source": [
    "编写一个布尔函数is_after，接收两个Time对象。t1和t2，若t1在t2时间之后返则返回True，否则返回False。挑战：不用if表达式"
   ]
  },
  {
   "cell_type": "code",
   "execution_count": 103,
   "id": "e691e597",
   "metadata": {},
   "outputs": [
    {
     "data": {
      "text/plain": [
       "True"
      ]
     },
     "execution_count": 103,
     "metadata": {},
     "output_type": "execute_result"
    }
   ],
   "source": [
    "time1.is_after(time2)"
   ]
  },
  {
   "cell_type": "markdown",
   "id": "035956c6",
   "metadata": {},
   "source": [
    "## 16.2 纯函数\n",
    "编写两个用来增加时间值的函数。<br>\n",
    "展示两种不同类型的函数：**纯函数**和**修改器**。<br>\n",
    "展示称为**原型和补丁（prototype and patch）**的开发计划。\n",
    "\n",
    "下面是add_time的一个简单原型:<br>\n",
    "这个函数创建一个新的Time对象，并返回这个新对象的一个引用。这被称为一个**纯函数**。<br>\n",
    "除了返回一个值之外，并不修改作为实参传入的任何对象，也没有任何如显示值或获得用户输入之类的副作用。"
   ]
  },
  {
   "cell_type": "code",
   "execution_count": 104,
   "id": "6e25db59",
   "metadata": {},
   "outputs": [],
   "source": [
    "def add_time(t1,t2):\n",
    "    sum = Time(t1.hour+t2.hour , t1.minute+t2.minute , t1.second+t2.second)\n",
    "    return sum"
   ]
  },
  {
   "cell_type": "markdown",
   "id": "7694f163",
   "metadata": {},
   "source": [
    "创建两个time对象：<br>\n",
    "start存放一个电影的开始时间<br>\n",
    "duration存放电影的播放时间<br>\n",
    "\n",
    "add_time计算出电影何时结束"
   ]
  },
  {
   "cell_type": "code",
   "execution_count": 105,
   "id": "d581c710",
   "metadata": {},
   "outputs": [
    {
     "name": "stdout",
     "output_type": "stream",
     "text": [
      "10:80:00\n"
     ]
    }
   ],
   "source": [
    "start = Time(9,45,0)\n",
    "duration = Time(1,35,0)\n",
    "done = add_time(start,duration)\n",
    "done.print_time()"
   ]
  },
  {
   "cell_type": "markdown",
   "id": "a1fcf856",
   "metadata": {},
   "source": [
    "结果10:80:00中分钟超过了60，所以我们需要改进add_time函数。"
   ]
  },
  {
   "cell_type": "code",
   "execution_count": 106,
   "id": "58ed3bf7",
   "metadata": {},
   "outputs": [],
   "source": [
    "def add_time(t1,t2):\n",
    "    sum = Time(0,0,0)\n",
    "    \n",
    "    sum.second = t1.second + t2.second\n",
    "    sum.minute = t1.minute + t2.minute \n",
    "    sum.hour = t1.hour + t2.hour \n",
    "    \n",
    "    if sum.second >= 60:\n",
    "        sum.second-=60\n",
    "        sum.miunte+=1\n",
    "    if sum.minute >= 60:\n",
    "        sum.minute-=60\n",
    "        sum.hour+=1\n",
    "        \n",
    "    return sum"
   ]
  },
  {
   "cell_type": "markdown",
   "id": "328d1583",
   "metadata": {},
   "source": [
    "虽然这个函数是正确的，它已经开始变大了。我们会在后面看到一个更短的版本。"
   ]
  },
  {
   "cell_type": "code",
   "execution_count": 107,
   "id": "f12a0bd4",
   "metadata": {},
   "outputs": [
    {
     "name": "stdout",
     "output_type": "stream",
     "text": [
      "11:20:00\n"
     ]
    }
   ],
   "source": [
    "start = Time(9,45,0)\n",
    "duration = Time(1,35,0)\n",
    "done = add_time(start,duration)\n",
    "done.print_time()"
   ]
  },
  {
   "cell_type": "markdown",
   "id": "f331255e",
   "metadata": {},
   "source": [
    "## 16.3 修改器\n",
    "修改传入的参数对象，修改对调用者可见，这样的函数称为**修改器（modifier）**。<br>    \n",
    "函数increment给一个Time对象增加指定的描述，下面是一个初稿："
   ]
  },
  {
   "cell_type": "code",
   "execution_count": 108,
   "id": "36936c7b",
   "metadata": {},
   "outputs": [],
   "source": [
    "def increment(time,seconds):\n",
    "    time.second += seconds\n",
    "    \n",
    "    if time.second >= 60:\n",
    "        time.second -= 60\n",
    "        time.minute += 1\n",
    "    if time.minute >= 60:\n",
    "        time.minute -= 60\n",
    "        time.hour += 1"
   ]
  },
  {
   "cell_type": "markdown",
   "id": "17648d24",
   "metadata": {},
   "source": [
    "如果seconds比60大很多，比如下例中seconds为800，就会发现只进一次位是不够的；需要重复进位，一种办法是使用while语句代替if语句，那样会让函数正确，但不是很高效。"
   ]
  },
  {
   "cell_type": "code",
   "execution_count": 109,
   "id": "b95774b0",
   "metadata": {},
   "outputs": [
    {
     "name": "stdout",
     "output_type": "stream",
     "text": [
      "20:21:760\n"
     ]
    }
   ],
   "source": [
    "time2 = Time(20,20,20)\n",
    "increment(time2,800)\n",
    "time2.print_time()"
   ]
  },
  {
   "cell_type": "markdown",
   "id": "4da3983f",
   "metadata": {},
   "source": [
    "作为练习，编写正确的increment版本，不包括任何循环。"
   ]
  },
  {
   "cell_type": "code",
   "execution_count": 110,
   "id": "a4adf181",
   "metadata": {},
   "outputs": [],
   "source": [
    "def increment(time,seconds):\n",
    "    time.second += seconds\n",
    "    \n",
    "    time.minute += int(time.second/60)\n",
    "    time.second = time.second%60\n",
    "\n",
    "    time.hour += int(time.minute/60)\n",
    "    time.minute = time.minute%60"
   ]
  },
  {
   "cell_type": "code",
   "execution_count": 111,
   "id": "521bd9f0",
   "metadata": {
    "scrolled": true
   },
   "outputs": [
    {
     "name": "stdout",
     "output_type": "stream",
     "text": [
      "20:59:20\n",
      "21:12:40\n"
     ]
    }
   ],
   "source": [
    "time2 = Time(20,59,20)\n",
    "time2.print_time()\n",
    "increment(time2,800)\n",
    "time2.print_time()"
   ]
  },
  {
   "cell_type": "markdown",
   "id": "c1c19477",
   "metadata": {},
   "source": [
    "任何可以使用修改器做到的功能都可以使用纯函数实现，纯函数的程序比修改器的程序开发更快，错误更少。<br>\n",
    "尽量编写纯函数，只在有绝对说服力原因的时候才使用修改器。这种方法被称为**函数式编程风格**。<br>\n",
    "作为练习，编写一个increment的纯函数版本，创建并返回一个新的Time对象，而不修改参数。"
   ]
  },
  {
   "cell_type": "code",
   "execution_count": 112,
   "id": "8a9e76dd",
   "metadata": {},
   "outputs": [],
   "source": [
    "def increment(time,seconds):\n",
    "    modified_time = Time(time.hour,time.minute,time.second)\n",
    "    \n",
    "    modified_time.second += seconds\n",
    "    \n",
    "    modified_time.minute += int(modified_time.second/60)\n",
    "    modified_time.second = modified_time.second%60\n",
    "\n",
    "    modified_time.hour += int(modified_time.minute/60)\n",
    "    modified_time.minute = modified_time.minute%60\n",
    "    \n",
    "    return modified_time"
   ]
  },
  {
   "cell_type": "code",
   "execution_count": 113,
   "id": "9ed7dd9f",
   "metadata": {},
   "outputs": [
    {
     "name": "stdout",
     "output_type": "stream",
     "text": [
      "20:59:20\n",
      "21:12:40\n"
     ]
    }
   ],
   "source": [
    "time2 = Time(20,59,20)\n",
    "time2.print_time()\n",
    "time3 = increment(time2,800)\n",
    "time3.print_time()"
   ]
  },
  {
   "cell_type": "markdown",
   "id": "0e31b8bf",
   "metadata": {},
   "source": [
    "## 16.4 原型和计划\n",
    "刚才我们展示的开发计划称为“原型和补丁”。对每个函数，我可以先编写一个基本的原型，再不断的进行测试发现错误，并打补丁改进。<br>\n",
    "另一种方法是**有规划开发（designed development）**。比如上面的问题中，Time对象实际上是六十进制数里的三位数。<br>\n",
    "在编写add_time和increment时，我们实际上是在六十进制上进行加减，因此才需要从一位加到另一位。那我们可以将Time对象转换成整数。<br>\n",
    "\n",
    "下面是一个将Time对象转换成整数的函数："
   ]
  },
  {
   "cell_type": "code",
   "execution_count": 114,
   "id": "ec6f0f4f",
   "metadata": {},
   "outputs": [],
   "source": [
    "def time_to_int(time):\n",
    "    minutes = time.minute + time.hour * 60\n",
    "    seconds = time.second + minutes * 60\n",
    "    return seconds"
   ]
  },
  {
   "cell_type": "markdown",
   "id": "05c203b0",
   "metadata": {},
   "source": [
    "下面是一个将整数转换回Time对象的函数"
   ]
  },
  {
   "cell_type": "code",
   "execution_count": 115,
   "id": "70da6c7f",
   "metadata": {},
   "outputs": [],
   "source": [
    "def int_to_time(seconds):\n",
    "    time = Time(0,0,0)\n",
    "    minutes ,time.second = divmod(seconds , 60)\n",
    "    time.hour , time.minute = divmod(minutes , 60)\n",
    "    return time"
   ]
  },
  {
   "cell_type": "markdown",
   "id": "df4d4d69",
   "metadata": {},
   "source": [
    "那么怎么测试上面两个函数呢，一种测试的方法可以是用很多x值检查`time_to_int(int_to_time(x)) == x`"
   ]
  },
  {
   "cell_type": "code",
   "execution_count": 116,
   "id": "253464f4",
   "metadata": {},
   "outputs": [
    {
     "name": "stdout",
     "output_type": "stream",
     "text": [
      "09:36:07\n"
     ]
    }
   ],
   "source": [
    "x = 34567\n",
    "time = int_to_time(x)\n",
    "time.print_time()"
   ]
  },
  {
   "cell_type": "code",
   "execution_count": 117,
   "id": "3ff2d173",
   "metadata": {},
   "outputs": [
    {
     "data": {
      "text/plain": [
       "34567"
      ]
     },
     "execution_count": 117,
     "metadata": {},
     "output_type": "execute_result"
    }
   ],
   "source": [
    "time = Time(9,36,7)\n",
    "x = time_to_int(time)\n",
    "x"
   ]
  },
  {
   "cell_type": "markdown",
   "id": "186ad416",
   "metadata": {},
   "source": [
    "一旦认为他们是正确的，就可以使用他们重写add_time:"
   ]
  },
  {
   "cell_type": "code",
   "execution_count": 118,
   "id": "2732b5eb",
   "metadata": {},
   "outputs": [],
   "source": [
    "def add_time(t1,t2):\n",
    "    seconds = time_to_int(t1) + time_to_int(t2)\n",
    "    return int_to_time(seconds)"
   ]
  },
  {
   "cell_type": "markdown",
   "id": "2adb6ea1",
   "metadata": {},
   "source": [
    "作为练习，重写increment函数。"
   ]
  },
  {
   "cell_type": "code",
   "execution_count": 119,
   "id": "36007703",
   "metadata": {},
   "outputs": [],
   "source": [
    "def increment(t,seconds):\n",
    "    seconds += time_to_int(t)\n",
    "    return int_to_time(seconds)"
   ]
  },
  {
   "cell_type": "markdown",
   "id": "86c4aa44",
   "metadata": {},
   "source": [
    "## 16.5 调试\n",
    "一个Time对象的minute和second的值应当在0与60之间，以及hour是正值，hour和minute应当是整数值，也允许second拥有小数值。<br>\n",
    "这些需求称为**不变式**，以为它们应当总为真，所以可编写一个像valid_time这样的函数，接收Time对象来帮助你检查不变式，当违反不变式时，返回Fasle。"
   ]
  },
  {
   "cell_type": "code",
   "execution_count": 120,
   "id": "1598bbb4",
   "metadata": {},
   "outputs": [],
   "source": [
    "def valid_time(time):\n",
    "    if not isinstance(time.hour,int) or not isinstance(time.minute,int):\n",
    "        return False\n",
    "    if time.hour < 0 or time.minute < 0 or time.second <0:\n",
    "        return False\n",
    "    if time.minute >= 60 or time.second >= 60:\n",
    "        return False\n",
    "    return True"
   ]
  },
  {
   "cell_type": "markdown",
   "id": "445851f7",
   "metadata": {},
   "source": [
    "这样我们就可以使用一个assert语句检查一个给定的不定式，当检查失败时抛出异常:"
   ]
  },
  {
   "cell_type": "code",
   "execution_count": 121,
   "id": "0f7e31f7",
   "metadata": {},
   "outputs": [],
   "source": [
    "def add_time(t1,t2):\n",
    "    assert valid_time(t1) and valid_time(t2)\n",
    "    seconds = time_to_int(t1) + time_to_int(t2)\n",
    "    return int_to_time(seconds)"
   ]
  },
  {
   "cell_type": "code",
   "execution_count": 124,
   "id": "63cb3159",
   "metadata": {},
   "outputs": [
    {
     "ename": "AssertionError",
     "evalue": "",
     "output_type": "error",
     "traceback": [
      "\u001b[1;31m---------------------------------------------------------------------------\u001b[0m",
      "\u001b[1;31mAssertionError\u001b[0m                            Traceback (most recent call last)",
      "\u001b[1;32m<ipython-input-124-0ed39d3d2a28>\u001b[0m in \u001b[0;36m<module>\u001b[1;34m\u001b[0m\n\u001b[0;32m      1\u001b[0m \u001b[0mstart\u001b[0m \u001b[1;33m=\u001b[0m \u001b[0mTime\u001b[0m\u001b[1;33m(\u001b[0m\u001b[1;36m2\u001b[0m\u001b[1;33m,\u001b[0m\u001b[1;36m2\u001b[0m\u001b[1;33m,\u001b[0m\u001b[1;36m2\u001b[0m\u001b[1;33m)\u001b[0m\u001b[1;33m\u001b[0m\u001b[1;33m\u001b[0m\u001b[0m\n\u001b[0;32m      2\u001b[0m \u001b[0mduring\u001b[0m \u001b[1;33m=\u001b[0m \u001b[0mTime\u001b[0m\u001b[1;33m(\u001b[0m\u001b[1;36m3\u001b[0m\u001b[1;33m,\u001b[0m\u001b[1;36m3.1\u001b[0m\u001b[1;33m,\u001b[0m\u001b[1;36m3\u001b[0m\u001b[1;33m)\u001b[0m\u001b[1;33m\u001b[0m\u001b[1;33m\u001b[0m\u001b[0m\n\u001b[1;32m----> 3\u001b[1;33m \u001b[0mdone\u001b[0m \u001b[1;33m=\u001b[0m \u001b[0madd_time\u001b[0m\u001b[1;33m(\u001b[0m\u001b[0mstart\u001b[0m\u001b[1;33m,\u001b[0m\u001b[0mduring\u001b[0m\u001b[1;33m)\u001b[0m\u001b[1;33m\u001b[0m\u001b[1;33m\u001b[0m\u001b[0m\n\u001b[0m\u001b[0;32m      4\u001b[0m \u001b[0mdone\u001b[0m\u001b[1;33m.\u001b[0m\u001b[0mprint_time\u001b[0m\u001b[1;33m(\u001b[0m\u001b[1;33m)\u001b[0m\u001b[1;33m\u001b[0m\u001b[1;33m\u001b[0m\u001b[0m\n",
      "\u001b[1;32m<ipython-input-121-f90e9f3eb88e>\u001b[0m in \u001b[0;36madd_time\u001b[1;34m(t1, t2)\u001b[0m\n\u001b[0;32m      1\u001b[0m \u001b[1;32mdef\u001b[0m \u001b[0madd_time\u001b[0m\u001b[1;33m(\u001b[0m\u001b[0mt1\u001b[0m\u001b[1;33m,\u001b[0m\u001b[0mt2\u001b[0m\u001b[1;33m)\u001b[0m\u001b[1;33m:\u001b[0m\u001b[1;33m\u001b[0m\u001b[1;33m\u001b[0m\u001b[0m\n\u001b[1;32m----> 2\u001b[1;33m     \u001b[1;32massert\u001b[0m \u001b[0mvalid_time\u001b[0m\u001b[1;33m(\u001b[0m\u001b[0mt1\u001b[0m\u001b[1;33m)\u001b[0m \u001b[1;32mand\u001b[0m \u001b[0mvalid_time\u001b[0m\u001b[1;33m(\u001b[0m\u001b[0mt2\u001b[0m\u001b[1;33m)\u001b[0m\u001b[1;33m\u001b[0m\u001b[1;33m\u001b[0m\u001b[0m\n\u001b[0m\u001b[0;32m      3\u001b[0m     \u001b[0mseconds\u001b[0m \u001b[1;33m=\u001b[0m \u001b[0mtime_to_int\u001b[0m\u001b[1;33m(\u001b[0m\u001b[0mt1\u001b[0m\u001b[1;33m)\u001b[0m \u001b[1;33m+\u001b[0m \u001b[0mtime_to_int\u001b[0m\u001b[1;33m(\u001b[0m\u001b[0mt2\u001b[0m\u001b[1;33m)\u001b[0m\u001b[1;33m\u001b[0m\u001b[1;33m\u001b[0m\u001b[0m\n\u001b[0;32m      4\u001b[0m     \u001b[1;32mreturn\u001b[0m \u001b[0mint_to_time\u001b[0m\u001b[1;33m(\u001b[0m\u001b[0mseconds\u001b[0m\u001b[1;33m)\u001b[0m\u001b[1;33m\u001b[0m\u001b[1;33m\u001b[0m\u001b[0m\n",
      "\u001b[1;31mAssertionError\u001b[0m: "
     ]
    }
   ],
   "source": [
    "start = Time(2,2,2)\n",
    "during = Time(3,3.1,3)\n",
    "done = add_time(start,during)\n",
    "done.print_time()"
   ]
  },
  {
   "cell_type": "markdown",
   "id": "829a1d3c",
   "metadata": {},
   "source": [
    "## 16.6 术语表\n",
    "- 原型和补丁（prototype and patch）:一种开发计划模式，先编写程序的粗略原型，并测试。在找到错误时改正。\n",
    "- 有规划开发（planned development）：一种开发计划模式，先对问题有了高阶的深入理解，并且比增量开发或者原型开发有更多的规划。\n",
    "- 纯函数（pure function）：不修改任何形式参数对象的函数。大部分纯函数都有返回值。\n",
    "- 修改器（modifier）：修改一个或者多个形参对象的函数。大部分修改器都不返回值，或者返回None。\n",
    "- 函数式编程风格（functional programming style）：一种编程设计风格，其中大部分函数都是纯函数。\n",
    "- 不变式（invariant）：在程序的执行过程中应当总是为真的条件。\n",
    "- assert 语句（assert statement）：一种检查某个条件，如果检查失败则会抛出异常的语句。"
   ]
  },
  {
   "cell_type": "markdown",
   "id": "a4d9d413",
   "metadata": {},
   "source": [
    "## 16.7 练习"
   ]
  },
  {
   "cell_type": "markdown",
   "id": "ca1bb532",
   "metadata": {},
   "source": [
    "## 16.8 自我总结\n",
    "1. 字符串格式化方法，应采用新的两种字符串格式方法：`1.f-string 2.str.format`\n",
    "2. 学习了两种开发计划模式，分别是**原型和补丁，有规划开发**\n",
    "3. 学习了内置函数`divmod()`的使用方法\n",
    "4. 学习了`assert`语句的简单用法\n",
    "5. 编写函数时尽量使用纯函数，少用修改器。"
   ]
  },
  {
   "cell_type": "code",
   "execution_count": null,
   "id": "0d86dfc6",
   "metadata": {},
   "outputs": [],
   "source": []
  }
 ],
 "metadata": {
  "kernelspec": {
   "display_name": "Python 3",
   "language": "python",
   "name": "python3"
  },
  "language_info": {
   "codemirror_mode": {
    "name": "ipython",
    "version": 3
   },
   "file_extension": ".py",
   "mimetype": "text/x-python",
   "name": "python",
   "nbconvert_exporter": "python",
   "pygments_lexer": "ipython3",
   "version": "3.8.8"
  }
 },
 "nbformat": 4,
 "nbformat_minor": 5
}
