{
 "cells": [
  {
   "cell_type": "markdown",
   "id": "2f5e1b47",
   "metadata": {},
   "source": [
    "# 第17章 类和方法\n",
    "## 17.1 面向对象特性\n",
    "Python是一门面向对象的编程语言，提供了一些支持面向对象编程的语言特性：\n",
    "- 程序包括类定义和方法定义\n",
    "- 大部分计算都通过对象的操作来表达\n",
    "- 每个对象定义对应真实世界的某些对象或概念，而方法则对应真实世界中对象之间交互的方式\n",
    "\n",
    "方法和函数语义上是一样的，但在语法上有两个区别。\n",
    "- 方法定义写在类定义中，更明确的表示类和方法的关联\n",
    "- 调用方法和调用函数的语法形式不同"
   ]
  },
  {
   "cell_type": "markdown",
   "id": "b4af519b",
   "metadata": {},
   "source": [
    "## 17.2 打印对象\n",
    "我们将第16章的print_time函数转换成Time类的一个方法。"
   ]
  },
  {
   "cell_type": "code",
   "execution_count": 1,
   "id": "678be0f7",
   "metadata": {},
   "outputs": [],
   "source": [
    "class Time():\n",
    "    def print_time(time):\n",
    "        print('%.2d:%.2d:%.2d'%(time.hour,time.minute,time.second))"
   ]
  },
  {
   "cell_type": "code",
   "execution_count": 2,
   "id": "2a767fba",
   "metadata": {},
   "outputs": [],
   "source": [
    "start = Time()\n",
    "start.hour = 9\n",
    "start.minute = 45\n",
    "start.second = 00"
   ]
  },
  {
   "cell_type": "markdown",
   "id": "21ddce0d",
   "metadata": {},
   "source": []
  },
  {
   "cell_type": "markdown",
   "id": "6dc602fb",
   "metadata": {},
   "source": [
    "现在有两种方式可以调用print_time，第一种方法是使用**函数调用语法**（比较少见）："
   ]
  },
  {
   "cell_type": "code",
   "execution_count": 3,
   "id": "b61f5503",
   "metadata": {},
   "outputs": [
    {
     "name": "stdout",
     "output_type": "stream",
     "text": [
      "09:45:00\n"
     ]
    }
   ],
   "source": [
    "Time.print_time(start)"
   ]
  },
  {
   "cell_type": "markdown",
   "id": "badb6196",
   "metadata": {},
   "source": [
    "在这里的点表示法中，Time是类的名称，而print_time是方法的名称，start作为参数传入。<br>\n",
    "另一种方式是使用**方法调用语法**。"
   ]
  },
  {
   "cell_type": "code",
   "execution_count": 4,
   "id": "bc4dd252",
   "metadata": {},
   "outputs": [
    {
     "name": "stdout",
     "output_type": "stream",
     "text": [
      "09:45:00\n"
     ]
    }
   ],
   "source": [
    "start.print_time()"
   ]
  },
  {
   "cell_type": "markdown",
   "id": "79e01efb",
   "metadata": {},
   "source": [
    "在这里的点表示法中，print_time仍是方法的名称，而start是调用这个方法的对象，也称为**主体（subject）**<br>\n",
    "在方法中主体会被赋值给第一个形参，在本例中start被赋值给time。<br>\n",
    "\n",
    "通常，方法的第一个形参应为self，所以print_time这个方法通常应该写成这样的形式："
   ]
  },
  {
   "cell_type": "code",
   "execution_count": 5,
   "id": "523495ae",
   "metadata": {},
   "outputs": [
    {
     "name": "stdout",
     "output_type": "stream",
     "text": [
      "09:45:00\n"
     ]
    }
   ],
   "source": [
    "class Time:\n",
    "    def print_time(self):\n",
    "        print('%.2d:%.2d:%.2d'%(self.hour,self.minute,self.second))\n",
    "        \n",
    "start.print_time()"
   ]
  },
  {
   "cell_type": "markdown",
   "id": "89d0a92a",
   "metadata": {},
   "source": [
    "## 17.5 `__init__`方法"
   ]
  },
  {
   "cell_type": "code",
   "execution_count": 6,
   "id": "84a52afd",
   "metadata": {},
   "outputs": [],
   "source": [
    "class Time():\n",
    "    # 新增__init__()\n",
    "    def __init__(self,hour=0,minute=0,second=0):\n",
    "        self.hour=hour\n",
    "        self.minute=minute\n",
    "        self.second=second\n",
    "    \n",
    "    def print_time(self):\n",
    "        print('%.2d:%.2d:%.2d'%(self.hour,self.minute,self.second))"
   ]
  },
  {
   "cell_type": "markdown",
   "id": "4152368b",
   "metadata": {},
   "source": [
    "形参是可选的，所以当你不使用任何实参调用Time时，会得到默认值："
   ]
  },
  {
   "cell_type": "code",
   "execution_count": 7,
   "id": "b37ca7da",
   "metadata": {},
   "outputs": [
    {
     "name": "stdout",
     "output_type": "stream",
     "text": [
      "00:00:00\n"
     ]
    }
   ],
   "source": [
    "time = Time()\n",
    "time.print_time()"
   ]
  },
  {
   "cell_type": "markdown",
   "id": "cabd468c",
   "metadata": {},
   "source": [
    "## 17.6 `__str__`方法"
   ]
  },
  {
   "cell_type": "markdown",
   "id": "81579540",
   "metadata": {},
   "source": [
    "`__str__`和`__init__`方法类似，它用来返回对象的字符串表达形式。"
   ]
  },
  {
   "cell_type": "code",
   "execution_count": 8,
   "id": "91d967fb",
   "metadata": {},
   "outputs": [],
   "source": [
    "class Time():\n",
    "    def __init__(self,hour=0,minute=0,second=0):\n",
    "        self.hour=hour\n",
    "        self.minute=minute\n",
    "        self.second=second\n",
    "    \n",
    "    # 新增__str__()\n",
    "    def __str__(self):\n",
    "        return '%.2d:%.2d:%.2d'%(self.hour,self.minute,self.second)"
   ]
  },
  {
   "cell_type": "code",
   "execution_count": 9,
   "id": "93440a3d",
   "metadata": {},
   "outputs": [
    {
     "name": "stdout",
     "output_type": "stream",
     "text": [
      "09:45:00\n"
     ]
    }
   ],
   "source": [
    "time = Time(9,45)\n",
    "print(time)"
   ]
  },
  {
   "cell_type": "markdown",
   "id": "64d1c4e3",
   "metadata": {},
   "source": [
    "## 17.7 操作符重载\n",
    "例如为Time类定义一个__add__方法，则可以在Time对象上使用+操作符。"
   ]
  },
  {
   "cell_type": "code",
   "execution_count": 10,
   "id": "a85794a6",
   "metadata": {},
   "outputs": [],
   "source": [
    "class Time():\n",
    "    def __init__(self,hour=0,minute=0,second=0):\n",
    "        self.hour=hour\n",
    "        self.minute=minute\n",
    "        self.second=second\n",
    "    \n",
    "    def __str__(self):\n",
    "        return '%.2d:%.2d:%.2d'%(self.hour,self.minute,self.second)\n",
    "    \n",
    "    def time_to_int(self):\n",
    "        minutes = self.minute + self.hour * 60\n",
    "        seconds = self.second + minutes * 60\n",
    "        return seconds\n",
    "    \n",
    "    # 新增__add__()\n",
    "    def __add__(self,other):\n",
    "        seconds = self.time_to_int() + other.time_to_int()\n",
    "        return int_to_time(seconds)\n",
    "\n",
    "def int_to_time(seconds):\n",
    "    time = Time()\n",
    "    minutes , time.second = divmod(seconds,60)\n",
    "    time.hour , time.minute = divmod(minutes,60)\n",
    "    return time"
   ]
  },
  {
   "cell_type": "code",
   "execution_count": 11,
   "id": "01ab71a3",
   "metadata": {},
   "outputs": [
    {
     "name": "stdout",
     "output_type": "stream",
     "text": [
      "11:20:00\n"
     ]
    }
   ],
   "source": [
    "start = Time(9,45)\n",
    "duration = Time(1,35)\n",
    "print(start + duration)"
   ]
  },
  {
   "cell_type": "markdown",
   "id": "a3fc32b3",
   "metadata": {},
   "source": [
    "当你对Time对象使用+操作符时，Python会调用__add__。<br>\n",
    "当你打印结果时，Python会调用__str__。<br>\n",
    "\n",
    "修改操作符的行为以便它能够作用于用户定义类型，这个过程称为**操作符重载**。"
   ]
  },
  {
   "cell_type": "markdown",
   "id": "0d3aa711",
   "metadata": {},
   "source": [
    "## 17.8 基于类型的分发\n",
    "在前一节中我们将两个Time对象相加，但你也可能会想要将一个Time对象加上一个整数。接下来是__add__的另一个版本，会检查other的类型，并调用add_time或者increment："
   ]
  },
  {
   "cell_type": "code",
   "execution_count": 12,
   "id": "0e33689a",
   "metadata": {},
   "outputs": [],
   "source": [
    "class Time():\n",
    "    def __init__(self,hour=0,minute=0,second=0):\n",
    "        self.hour=hour\n",
    "        self.minute=minute\n",
    "        self.second=second\n",
    "    \n",
    "    def __str__(self):\n",
    "        return '%.2d:%.2d:%.2d'%(self.hour,self.minute,self.second)\n",
    "    \n",
    "    def time_to_int(self):\n",
    "        minutes = self.minute + self.hour * 60\n",
    "        seconds = self.second + minutes * 60\n",
    "        return seconds\n",
    "    \n",
    "    # 修改__add__()\n",
    "    def __add__(self,other):\n",
    "        if isinstance(other,Time):\n",
    "            return self.add_time(other)\n",
    "        else:\n",
    "            return self.increment(other)\n",
    "        \n",
    "    def add_time(self,other):\n",
    "        seconds = self.time_to_int() + other.time_to_int()\n",
    "        return int_to_time(seconds)\n",
    "    \n",
    "    def increment(self,seconds):\n",
    "        seconds += self.time_to_int()\n",
    "        return int_to_time(seconds)\n",
    "        \n",
    "def int_to_time(seconds):\n",
    "    time = Time()\n",
    "    minutes , time.second = divmod(seconds,60)\n",
    "    time.hour , time.minute = divmod(minutes,60)\n",
    "    return time"
   ]
  },
  {
   "cell_type": "markdown",
   "id": "96d15c88",
   "metadata": {},
   "source": [
    "如果other是一个Time对象，`__add__`会调用`add_time`。否则认为实参是整数，并调用`increment`。这个操作称为基于**类型的分发（type-based dispatch）**，根据形参的类型，将计算分发到不同的方法上。"
   ]
  },
  {
   "cell_type": "code",
   "execution_count": 13,
   "id": "75454d18",
   "metadata": {},
   "outputs": [
    {
     "name": "stdout",
     "output_type": "stream",
     "text": [
      "11:20:00\n"
     ]
    }
   ],
   "source": [
    "start = Time(9,45)\n",
    "duration = Time(1,35)\n",
    "print(start + duration)"
   ]
  },
  {
   "cell_type": "code",
   "execution_count": 14,
   "id": "9c1f06dd",
   "metadata": {},
   "outputs": [
    {
     "name": "stdout",
     "output_type": "stream",
     "text": [
      "10:07:17\n"
     ]
    }
   ],
   "source": [
    "print(start+1337)"
   ]
  },
  {
   "cell_type": "markdown",
   "id": "d4a4b7ad",
   "metadata": {},
   "source": [
    "这个加法的实现并不满足交换律，如果第一个操作数是整数，则会得到："
   ]
  },
  {
   "cell_type": "code",
   "execution_count": 15,
   "id": "db9a6970",
   "metadata": {
    "scrolled": true
   },
   "outputs": [
    {
     "ename": "TypeError",
     "evalue": "unsupported operand type(s) for +: 'int' and 'Time'",
     "output_type": "error",
     "traceback": [
      "\u001b[1;31m---------------------------------------------------------------------------\u001b[0m",
      "\u001b[1;31mTypeError\u001b[0m                                 Traceback (most recent call last)",
      "\u001b[1;32m<ipython-input-15-62269ac4a9d7>\u001b[0m in \u001b[0;36m<module>\u001b[1;34m\u001b[0m\n\u001b[1;32m----> 1\u001b[1;33m \u001b[0mprint\u001b[0m\u001b[1;33m(\u001b[0m\u001b[1;36m1337\u001b[0m\u001b[1;33m+\u001b[0m\u001b[0mstart\u001b[0m\u001b[1;33m)\u001b[0m\u001b[1;33m\u001b[0m\u001b[1;33m\u001b[0m\u001b[0m\n\u001b[0m",
      "\u001b[1;31mTypeError\u001b[0m: unsupported operand type(s) for +: 'int' and 'Time'"
     ]
    }
   ],
   "source": [
    "print(1337+start)"
   ]
  },
  {
   "cell_type": "markdown",
   "id": "04ec08d4",
   "metadata": {},
   "source": [
    "这里有一个解决方案，特别方法`__radd__`，右加法（right-side add）。当Time对象出现在+号的右侧时，会调用这个方法。"
   ]
  },
  {
   "cell_type": "code",
   "execution_count": 16,
   "id": "5cda22d1",
   "metadata": {},
   "outputs": [],
   "source": [
    "class Time():\n",
    "    def __init__(self,hour=0,minute=0,second=0):\n",
    "        self.hour=hour\n",
    "        self.minute=minute\n",
    "        self.second=second\n",
    "    \n",
    "    def __str__(self):\n",
    "        return '%.2d:%.2d:%.2d'%(self.hour,self.minute,self.second)\n",
    "    \n",
    "    def time_to_int(self):\n",
    "        minutes = self.minute + self.hour * 60\n",
    "        seconds = self.second + minutes * 60\n",
    "        return seconds\n",
    "    \n",
    "    # 修改__add__()\n",
    "    def __add__(self,other):\n",
    "        if isinstance(other,Time):\n",
    "            return self.add_time(other)\n",
    "        else:\n",
    "            return self.increment(other)\n",
    "        \n",
    "    def add_time(self,other):\n",
    "        seconds = self.time_to_int() + other.time_to_int()\n",
    "        return int_to_time(seconds)\n",
    "    \n",
    "    def increment(self,seconds):\n",
    "        seconds += self.time_to_int()\n",
    "        return int_to_time(seconds)\n",
    "    \n",
    "    def __radd__(self,other):\n",
    "        return self.__add__(other)\n",
    "        \n",
    "def int_to_time(seconds):\n",
    "    time = Time()\n",
    "    minutes , time.second = divmod(seconds,60)\n",
    "    time.hour , time.minute = divmod(minutes,60)\n",
    "    return time"
   ]
  },
  {
   "cell_type": "code",
   "execution_count": 17,
   "id": "b2de1996",
   "metadata": {},
   "outputs": [
    {
     "name": "stdout",
     "output_type": "stream",
     "text": [
      "10:07:17\n"
     ]
    }
   ],
   "source": [
    "start = Time(9,45)\n",
    "print( 1337 + start)"
   ]
  },
  {
   "cell_type": "markdown",
   "id": "2e4f116a",
   "metadata": {},
   "source": [
    "## 17.9 多态\n",
    "我们编写的很多处理字符串的函数，实际上对其他序列类型也可以用。例如，在11.1节中，我们使用histogram来记录单词中每个字母出现的次数："
   ]
  },
  {
   "cell_type": "code",
   "execution_count": 18,
   "id": "4394d200",
   "metadata": {},
   "outputs": [],
   "source": [
    "def histogram(s):\n",
    "    d = dict()\n",
    "    for letter in s:\n",
    "        if letter not in d:\n",
    "            d[letter] = 1\n",
    "        else:\n",
    "            d[letter] += 1\n",
    "    return d"
   ]
  },
  {
   "cell_type": "markdown",
   "id": "704406b2",
   "metadata": {},
   "source": [
    "这个函数对列表、元组、字典都可以使用，只要s的元素是可散列的，即s的元素为不可变类型，如整数、浮点数和字符串。\n",
    "https://www.cnblogs.com/1zhangwenjing/p/9072689.html"
   ]
  },
  {
   "cell_type": "code",
   "execution_count": 19,
   "id": "2ad5c553",
   "metadata": {},
   "outputs": [
    {
     "data": {
      "text/plain": [
       "{'spam': 4, 'egg': 1, 'bacon': 1}"
      ]
     },
     "execution_count": 19,
     "metadata": {},
     "output_type": "execute_result"
    }
   ],
   "source": [
    "t = ['spam','egg','spam','spam','bacon','spam']\n",
    "histogram(t)"
   ]
  },
  {
   "cell_type": "markdown",
   "id": "34d919e2",
   "metadata": {},
   "source": [
    "处理多个类型的函数称为**多态（polymorphic）**，优点：可以促进代码复用<br>\n",
    "例如，用来计算一个序列所有对象的和的内置函数，对所有其元素支持加法的序列都可用。<br>\n",
    "由于Time对象提供了add方法，所以他们也可以使用过sum："
   ]
  },
  {
   "cell_type": "code",
   "execution_count": 20,
   "id": "020b8213",
   "metadata": {},
   "outputs": [
    {
     "name": "stdout",
     "output_type": "stream",
     "text": [
      "23:01:00\n"
     ]
    }
   ],
   "source": [
    "t1 = Time(7,43)\n",
    "t2 = Time(7,41)\n",
    "t3 = Time(7,37)\n",
    "total = sum([t1,t2,t3])\n",
    "print(total)"
   ]
  },
  {
   "cell_type": "markdown",
   "id": "2a56a87e",
   "metadata": {},
   "source": [
    "## 17.10 接口和实现"
   ]
  },
  {
   "cell_type": "markdown",
   "id": "ce7a25b6",
   "metadata": {},
   "source": [
    "将接口和实现分离的设计理念，可以帮助我们提高软件的可维护性。"
   ]
  },
  {
   "cell_type": "markdown",
   "id": "4c2797b2",
   "metadata": {},
   "source": [
    "## 17.11 调试\n",
    "如果我们并不清楚一个对象是否拥有某个属性，可以使用内置函数`hasattr()`检查一个对象是否拥有某个特定的属性。（参考15.7节）<br> \n",
    "另一种访问一个对象的属性的方法是使用内置函数`vars()`，接收一个对象，并返回一个将属性名称（字符串形式）映射到属性值的字典对象："
   ]
  },
  {
   "cell_type": "code",
   "execution_count": 21,
   "id": "61821eaa",
   "metadata": {},
   "outputs": [
    {
     "data": {
      "text/plain": [
       "{'hour': 7, 'minute': 43, 'second': 0}"
      ]
     },
     "execution_count": 21,
     "metadata": {},
     "output_type": "execute_result"
    }
   ],
   "source": [
    "vars(t1)"
   ]
  },
  {
   "cell_type": "markdown",
   "id": "5269349b",
   "metadata": {},
   "source": [
    "为了调试，可以使用print_attributes遍历对象的属性字典，并打印出每个属性的名称和相应的值。<br>\n",
    "内置函数`getattr()`接受一个对象以及一个属性名称（字符串形式）并返回属性的值。"
   ]
  },
  {
   "cell_type": "code",
   "execution_count": 22,
   "id": "f7b82701",
   "metadata": {},
   "outputs": [
    {
     "name": "stdout",
     "output_type": "stream",
     "text": [
      "hour 7\n",
      "minute 43\n",
      "second 0\n"
     ]
    }
   ],
   "source": [
    "def print_attributes(obj):\n",
    "    for attr in vars(obj):\n",
    "        print(attr,getattr(obj,attr))\n",
    "        \n",
    "print_attributes(t1)"
   ]
  },
  {
   "cell_type": "markdown",
   "id": "14acebd0",
   "metadata": {},
   "source": [
    "## 17.12 术语表\n",
    "- 面向对象语言（object-oriented language）\n",
    "- 面向对象编程（object-oriented programming）\n",
    "- 方法（method）\n",
    "- 主体（subject）\n",
    "- 按位实参/位置参数 （positional argument）\n",
    "- 操作符重载（operator overloading）\n",
    "- 基于类型的分发（type-based dispatch）\n",
    "- 多态（polymorphic）\n",
    "- 信息隐藏（information hiding）"
   ]
  }
 ],
 "metadata": {
  "kernelspec": {
   "display_name": "Python 3",
   "language": "python",
   "name": "python3"
  },
  "language_info": {
   "codemirror_mode": {
    "name": "ipython",
    "version": 3
   },
   "file_extension": ".py",
   "mimetype": "text/x-python",
   "name": "python",
   "nbconvert_exporter": "python",
   "pygments_lexer": "ipython3",
   "version": "3.8.8"
  }
 },
 "nbformat": 4,
 "nbformat_minor": 5
}
