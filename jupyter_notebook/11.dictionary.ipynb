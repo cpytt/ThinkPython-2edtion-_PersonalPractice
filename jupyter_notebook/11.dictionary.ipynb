{
 "cells": [
  {
   "cell_type": "markdown",
   "id": "b5742990",
   "metadata": {},
   "source": [
    "# 第十一章 字典"
   ]
  },
  {
   "cell_type": "markdown",
   "id": "d0871fa1",
   "metadata": {},
   "source": [
    "## 11.1 字典是一种映射"
   ]
  },
  {
   "cell_type": "markdown",
   "id": "65f5c3ea",
   "metadata": {},
   "source": [
    "字典类似于列表，但更加**通用**。<br>\n",
    "通用体现在：在列表中，下标必须是整数；而在字典中，下标几乎可以是任何类型。<br>\n",
    "字典包含键集合和值集合。每个键都与一个值关联。键和值之间的关联称为**键值对(key-value pair)**，或者有时称为一**项(item)**。<br>\n",
    "用数学语言来描述，字典体现了键到值的**映射**，所以可以说每个键“映射”到一个值。<br><br>\n",
    "\n",
    "构建一个字典，将英语单词映射到西班牙语上。首先创建一个空的字典。"
   ]
  },
  {
   "cell_type": "code",
   "execution_count": 2,
   "id": "89023493",
   "metadata": {},
   "outputs": [
    {
     "data": {
      "text/plain": [
       "{}"
      ]
     },
     "execution_count": 2,
     "metadata": {},
     "output_type": "execute_result"
    }
   ],
   "source": [
    "eng2sp = dict()\n",
    "eng2sp"
   ]
  },
  {
   "cell_type": "markdown",
   "id": "af8104db",
   "metadata": {},
   "source": [
    "给字典添加新项，可以使用方括号操作符："
   ]
  },
  {
   "cell_type": "code",
   "execution_count": 3,
   "id": "24fbe0f9",
   "metadata": {},
   "outputs": [
    {
     "data": {
      "text/plain": [
       "{'one': 'uno'}"
      ]
     },
     "execution_count": 3,
     "metadata": {},
     "output_type": "execute_result"
    }
   ],
   "source": [
    "eng2sp['one']='uno'\n",
    "eng2sp"
   ]
  },
  {
   "cell_type": "markdown",
   "id": "266ee908",
   "metadata": {},
   "source": [
    "创建一个包含3项的新字典，并打印："
   ]
  },
  {
   "cell_type": "code",
   "execution_count": 4,
   "id": "5d88bec5",
   "metadata": {},
   "outputs": [
    {
     "data": {
      "text/plain": [
       "{'one': 'uno', 'two': 'dos', 'three': 'tres'}"
      ]
     },
     "execution_count": 4,
     "metadata": {},
     "output_type": "execute_result"
    }
   ],
   "source": [
    "eng2sp = {'one':'uno','two':'dos','three':'tres'}\n",
    "eng2sp"
   ]
  },
  {
   "cell_type": "markdown",
   "id": "156a1b7f",
   "metadata": {},
   "source": [
    "字典的元素不像列表那样用整数下标进行查找，而是使用键来查找对应的值："
   ]
  },
  {
   "cell_type": "code",
   "execution_count": 5,
   "id": "c492827a",
   "metadata": {},
   "outputs": [
    {
     "data": {
      "text/plain": [
       "'dos'"
      ]
     },
     "execution_count": 5,
     "metadata": {},
     "output_type": "execute_result"
    }
   ],
   "source": [
    "eng2sp['two']"
   ]
  },
  {
   "cell_type": "code",
   "execution_count": 6,
   "id": "c0e13fca",
   "metadata": {},
   "outputs": [
    {
     "data": {
      "text/plain": [
       "3"
      ]
     },
     "execution_count": 6,
     "metadata": {},
     "output_type": "execute_result"
    }
   ],
   "source": [
    "len(eng2sp)    # 内置函数len()同样也可以用于字典，返回字典中键值对的数量"
   ]
  },
  {
   "cell_type": "code",
   "execution_count": 7,
   "id": "1ffb3441",
   "metadata": {},
   "outputs": [
    {
     "data": {
      "text/plain": [
       "(True, False)"
      ]
     },
     "execution_count": 7,
     "metadata": {},
     "output_type": "execute_result"
    }
   ],
   "source": [
    "'one' in eng2sp,'uno' in eng2sp  # in操作符同样也可以用于字典，判断是不是字典的键。注意！判断的不是值"
   ]
  },
  {
   "cell_type": "markdown",
   "id": "df8e171a",
   "metadata": {},
   "source": [
    "若要查看一个值是不是出现在字典的值中，可以使用方法values，返回一个值集合，然后再应用in操作符进行判断："
   ]
  },
  {
   "cell_type": "code",
   "execution_count": 8,
   "id": "9a3afa13",
   "metadata": {},
   "outputs": [
    {
     "data": {
      "text/plain": [
       "(dict_values(['uno', 'dos', 'tres']), True)"
      ]
     },
     "execution_count": 8,
     "metadata": {},
     "output_type": "execute_result"
    }
   ],
   "source": [
    "vals = eng2sp.values()\n",
    "vals,'uno' in vals"
   ]
  },
  {
   "cell_type": "markdown",
   "id": "3cf6f2aa",
   "metadata": {},
   "source": [
    "Tip：in操作符对列表和字典使用不同的算法实现。<br>\n",
    ">对于列表，按**顺序**搜索列表的元素，所以当列表的长度变长时，搜索时间也会随之变长。<br>\n",
    ">对于字典，使用**散列表(hash table)**进行查找,所以不管字典有多少项，搜索时间都是差不多的。"
   ]
  },
  {
   "cell_type": "markdown",
   "id": "f139db6e",
   "metadata": {},
   "source": [
    "## 11.2 使用字典作为计数器集合\n",
    "给定一个字符串，计算每个字母出现的次数，有几种可能的实现方式：<br>\n",
    "1. 创建26个变量，每个变量对应字母表上的一个字母。接着遍历字符串，对每一个字符，增加对应的计数器，可能需要一个链式条件判断。\n",
    "2. 创建一个包含26个元素的列表，将每个字符转换为一个数字（使用内置函数ord）,使用这个数字作为列表的下标，并增加对应的计数器。\n",
    "3. 建立一个字典，以字符作为键，以计数器作为相对应的值。第一次遇到某个字符时，在字典中添加相对应的项，之后增加对应已经存在项的值。\n",
    "\n",
    "**实现(implementation)** 是进行某种计算的一个具体方式:\n",
    "字典实现的优势之一是我们并不需要预先知道字符串中可能出现哪些字母，只需要为真正出现过的字母分配空间。"
   ]
  },
  {
   "cell_type": "code",
   "execution_count": 9,
   "id": "7088652d",
   "metadata": {},
   "outputs": [],
   "source": [
    "def histogram(s):\n",
    "    d = dict()\n",
    "    for letter in s:\n",
    "        if letter not in d:\n",
    "            d[letter] = 1\n",
    "        else:\n",
    "            d[letter] += 1\n",
    "    return d"
   ]
  },
  {
   "cell_type": "code",
   "execution_count": 10,
   "id": "91d09f6f",
   "metadata": {},
   "outputs": [
    {
     "data": {
      "text/plain": [
       "{'b': 1, 'r': 2, 'o': 2, 'n': 1, 't': 1, 's': 2, 'a': 1, 'u': 2}"
      ]
     },
     "execution_count": 10,
     "metadata": {},
     "output_type": "execute_result"
    }
   ],
   "source": [
    "h = histogram('brontosaurus')\n",
    "h"
   ]
  },
  {
   "cell_type": "markdown",
   "id": "b3ce43b8",
   "metadata": {},
   "source": [
    "字典有一个方法get,接收一个键和一个默认值。<br>\n",
    "如果键出现在字典中，get返回对应的值；否则返回默认值。"
   ]
  },
  {
   "cell_type": "code",
   "execution_count": 11,
   "id": "04f05ab7",
   "metadata": {},
   "outputs": [
    {
     "data": {
      "text/plain": [
       "{'a': 1}"
      ]
     },
     "execution_count": 11,
     "metadata": {},
     "output_type": "execute_result"
    }
   ],
   "source": [
    "h = histogram('a')\n",
    "h"
   ]
  },
  {
   "cell_type": "code",
   "execution_count": 12,
   "id": "573ef0d9",
   "metadata": {
    "scrolled": true
   },
   "outputs": [
    {
     "data": {
      "text/plain": [
       "1"
      ]
     },
     "execution_count": 12,
     "metadata": {},
     "output_type": "execute_result"
    }
   ],
   "source": [
    "h.get('a',0)"
   ]
  },
  {
   "cell_type": "code",
   "execution_count": 13,
   "id": "9141afaa",
   "metadata": {},
   "outputs": [
    {
     "data": {
      "text/plain": [
       "0"
      ]
     },
     "execution_count": 13,
     "metadata": {},
     "output_type": "execute_result"
    }
   ],
   "source": [
    "h.get('b',0)"
   ]
  },
  {
   "cell_type": "code",
   "execution_count": 14,
   "id": "4841cbda",
   "metadata": {},
   "outputs": [
    {
     "data": {
      "text/plain": [
       "{'a': 1}"
      ]
     },
     "execution_count": 14,
     "metadata": {},
     "output_type": "execute_result"
    }
   ],
   "source": [
    "h"
   ]
  },
  {
   "cell_type": "markdown",
   "id": "91ce848a",
   "metadata": {},
   "source": [
    "作为练习，使用get和histogram写的更紧凑些，消除if语句。"
   ]
  },
  {
   "cell_type": "code",
   "execution_count": 15,
   "id": "a57d2cdb",
   "metadata": {},
   "outputs": [],
   "source": [
    "def histogram(s):\n",
    "    d = dict()\n",
    "    for letter in s:\n",
    "        d[letter]= d.get(letter,0) + 1\n",
    "    return d"
   ]
  },
  {
   "cell_type": "code",
   "execution_count": 16,
   "id": "3bc4bc5c",
   "metadata": {},
   "outputs": [
    {
     "data": {
      "text/plain": [
       "{'b': 1, 'r': 2, 'o': 2, 'n': 1, 't': 1, 's': 2, 'a': 1, 'u': 2}"
      ]
     },
     "execution_count": 16,
     "metadata": {},
     "output_type": "execute_result"
    }
   ],
   "source": [
    "h = histogram('brontosaurus')\n",
    "h"
   ]
  },
  {
   "cell_type": "markdown",
   "id": "b92e9b38",
   "metadata": {},
   "source": [
    "## 11.3 循环和字典 "
   ]
  },
  {
   "cell_type": "markdown",
   "id": "ac9d72a0",
   "metadata": {},
   "source": [
    "在for循环中使用字典，会遍历字典的键。"
   ]
  },
  {
   "cell_type": "code",
   "execution_count": 17,
   "id": "f31523a8",
   "metadata": {
    "scrolled": false
   },
   "outputs": [
    {
     "name": "stdout",
     "output_type": "stream",
     "text": [
      "b\n",
      "r\n",
      "o\n",
      "n\n",
      "t\n",
      "s\n",
      "a\n",
      "u\n"
     ]
    }
   ],
   "source": [
    "for key in h:\n",
    "    print(key)"
   ]
  },
  {
   "cell_type": "markdown",
   "id": "34e034a5",
   "metadata": {},
   "source": [
    "打印字典的每一个键和对应的值"
   ]
  },
  {
   "cell_type": "code",
   "execution_count": 18,
   "id": "4abd37ad",
   "metadata": {},
   "outputs": [
    {
     "name": "stdout",
     "output_type": "stream",
     "text": [
      "b 1\n",
      "r 2\n",
      "o 2\n",
      "n 1\n",
      "t 1\n",
      "s 2\n",
      "a 1\n",
      "u 2\n"
     ]
    }
   ],
   "source": [
    "def print_hist(d):\n",
    "    for key in d:\n",
    "        print(key,d[key])\n",
    "        \n",
    "print_hist(h)"
   ]
  },
  {
   "cell_type": "markdown",
   "id": "cdc3718b",
   "metadata": {},
   "source": [
    "# 11.4 反向查找\n",
    "给定一个字典d和键k，找到对应的值v=d[k]非常容易。这个操作称为**查找(lookup)**。<br>\n",
    "**反向查找**需要使用搜索。下面是一个函数，接收一个值，返回映射到该值的第一个键："
   ]
  },
  {
   "cell_type": "code",
   "execution_count": 19,
   "id": "bcf8ac19",
   "metadata": {},
   "outputs": [],
   "source": [
    "def reverse_lookup(d,v):\n",
    "    for key in d:\n",
    "        if d[key] == v: \n",
    "            return key\n",
    "    raise LookupError()"
   ]
  },
  {
   "cell_type": "markdown",
   "id": "6dc2c67c",
   "metadata": {},
   "source": [
    "成功的反向查找："
   ]
  },
  {
   "cell_type": "code",
   "execution_count": 20,
   "id": "d889ecf4",
   "metadata": {},
   "outputs": [
    {
     "data": {
      "text/plain": [
       "'r'"
      ]
     },
     "execution_count": 20,
     "metadata": {},
     "output_type": "execute_result"
    }
   ],
   "source": [
    "reverse_lookup(h,2)"
   ]
  },
  {
   "cell_type": "markdown",
   "id": "36fc0848",
   "metadata": {},
   "source": [
    "不成功的反向查找："
   ]
  },
  {
   "cell_type": "code",
   "execution_count": 21,
   "id": "0b7e1065",
   "metadata": {},
   "outputs": [
    {
     "ename": "LookupError",
     "evalue": "",
     "output_type": "error",
     "traceback": [
      "\u001b[1;31m---------------------------------------------------------------------------\u001b[0m",
      "\u001b[1;31mLookupError\u001b[0m                               Traceback (most recent call last)",
      "\u001b[1;32m<ipython-input-21-7b3a646bfc6d>\u001b[0m in \u001b[0;36m<module>\u001b[1;34m\u001b[0m\n\u001b[1;32m----> 1\u001b[1;33m \u001b[0mreverse_lookup\u001b[0m\u001b[1;33m(\u001b[0m\u001b[0mh\u001b[0m\u001b[1;33m,\u001b[0m\u001b[1;36m3\u001b[0m\u001b[1;33m)\u001b[0m\u001b[1;33m\u001b[0m\u001b[1;33m\u001b[0m\u001b[0m\n\u001b[0m",
      "\u001b[1;32m<ipython-input-19-2b59d41ed90d>\u001b[0m in \u001b[0;36mreverse_lookup\u001b[1;34m(d, v)\u001b[0m\n\u001b[0;32m      3\u001b[0m         \u001b[1;32mif\u001b[0m \u001b[0md\u001b[0m\u001b[1;33m[\u001b[0m\u001b[0mkey\u001b[0m\u001b[1;33m]\u001b[0m \u001b[1;33m==\u001b[0m \u001b[0mv\u001b[0m\u001b[1;33m:\u001b[0m\u001b[1;33m\u001b[0m\u001b[1;33m\u001b[0m\u001b[0m\n\u001b[0;32m      4\u001b[0m             \u001b[1;32mreturn\u001b[0m \u001b[0mkey\u001b[0m\u001b[1;33m\u001b[0m\u001b[1;33m\u001b[0m\u001b[0m\n\u001b[1;32m----> 5\u001b[1;33m     \u001b[1;32mraise\u001b[0m \u001b[0mLookupError\u001b[0m\u001b[1;33m(\u001b[0m\u001b[1;33m)\u001b[0m\u001b[1;33m\u001b[0m\u001b[1;33m\u001b[0m\u001b[0m\n\u001b[0m",
      "\u001b[1;31mLookupError\u001b[0m: "
     ]
    }
   ],
   "source": [
    "reverse_lookup(h,3)"
   ]
  },
  {
   "cell_type": "markdown",
   "id": "365a663b",
   "metadata": {},
   "source": [
    "**raise**语句也可以接收一个可选的参数用来详细描述错误："
   ]
  },
  {
   "cell_type": "code",
   "execution_count": 24,
   "id": "9f58af41",
   "metadata": {},
   "outputs": [
    {
     "ename": "LookupError",
     "evalue": "Value does not appear in the dictionary",
     "output_type": "error",
     "traceback": [
      "\u001b[1;31m---------------------------------------------------------------------------\u001b[0m",
      "\u001b[1;31mLookupError\u001b[0m                               Traceback (most recent call last)",
      "\u001b[1;32m<ipython-input-24-8b76b927d268>\u001b[0m in \u001b[0;36m<module>\u001b[1;34m\u001b[0m\n\u001b[1;32m----> 1\u001b[1;33m \u001b[1;32mraise\u001b[0m \u001b[0mLookupError\u001b[0m\u001b[1;33m(\u001b[0m\u001b[1;34m'Value does not appear in the dictionary'\u001b[0m\u001b[1;33m)\u001b[0m\u001b[1;33m\u001b[0m\u001b[1;33m\u001b[0m\u001b[0m\n\u001b[0m",
      "\u001b[1;31mLookupError\u001b[0m: Value does not appear in the dictionary"
     ]
    }
   ],
   "source": [
    "raise LookupError('Value does not appear in the dictionary')"
   ]
  },
  {
   "cell_type": "markdown",
   "id": "10b62af7",
   "metadata": {},
   "source": [
    "## 11.5 字典和列表 \n",
    "列表在字典中以值的形式出现：<br> \n",
    "将上述字母映射到频率的字典反转，建立一个将频率映射到字母上的字典，因为可能出现多个字母频率相同的情况。<br> \n",
    "反转字典的函数:"
   ]
  },
  {
   "cell_type": "code",
   "execution_count": 27,
   "id": "36c57993",
   "metadata": {},
   "outputs": [],
   "source": [
    "def invert_dict(d):\n",
    "    inverse = dict()\n",
    "    for key in d:\n",
    "        value = d[key]\n",
    "        if value not in inverse:\n",
    "            inverse[value]= [key]   # \n",
    "        else:\n",
    "            inverse[value].append(key)\n",
    "    return inverse"
   ]
  },
  {
   "cell_type": "markdown",
   "id": "998bc284",
   "metadata": {},
   "source": [
    "`inverse[value]= [key]`新建一个项，并将它初始化为一个**单件**（singleton，即只包含一个元素的列表）"
   ]
  },
  {
   "cell_type": "code",
   "execution_count": 25,
   "id": "74c39e2f",
   "metadata": {},
   "outputs": [
    {
     "data": {
      "text/plain": [
       "{'p': 1, 'a': 1, 'r': 2, 'o': 1, 't': 1}"
      ]
     },
     "execution_count": 25,
     "metadata": {},
     "output_type": "execute_result"
    }
   ],
   "source": [
    "hist = histogram('parrot')\n",
    "hist"
   ]
  },
  {
   "cell_type": "code",
   "execution_count": 26,
   "id": "2a780c6e",
   "metadata": {},
   "outputs": [
    {
     "data": {
      "text/plain": [
       "{1: ['p', 'a', 'o', 't'], 2: ['r']}"
      ]
     },
     "execution_count": 26,
     "metadata": {},
     "output_type": "execute_result"
    }
   ],
   "source": [
    "inverse = invert_dict(hist)\n",
    "inverse"
   ]
  },
  {
   "cell_type": "markdown",
   "id": "92be1953",
   "metadata": {},
   "source": [
    "![](https://www.greenteapress.com/thinkpython2/html/thinkpython2016.png '状态图')"
   ]
  },
  {
   "cell_type": "markdown",
   "id": "bc4d7d11",
   "metadata": {},
   "source": [
    "列表可以作为字典中的值，但是不能作为字典的键："
   ]
  },
  {
   "cell_type": "code",
   "execution_count": 28,
   "id": "0a9c534d",
   "metadata": {},
   "outputs": [
    {
     "ename": "TypeError",
     "evalue": "unhashable type: 'list'",
     "output_type": "error",
     "traceback": [
      "\u001b[1;31m---------------------------------------------------------------------------\u001b[0m",
      "\u001b[1;31mTypeError\u001b[0m                                 Traceback (most recent call last)",
      "\u001b[1;32m<ipython-input-28-6a03bc337223>\u001b[0m in \u001b[0;36m<module>\u001b[1;34m\u001b[0m\n\u001b[0;32m      1\u001b[0m \u001b[0mt\u001b[0m \u001b[1;33m=\u001b[0m \u001b[1;33m[\u001b[0m\u001b[1;36m1\u001b[0m\u001b[1;33m,\u001b[0m\u001b[1;36m2\u001b[0m\u001b[1;33m,\u001b[0m\u001b[1;36m3\u001b[0m\u001b[1;33m]\u001b[0m\u001b[1;33m\u001b[0m\u001b[1;33m\u001b[0m\u001b[0m\n\u001b[0;32m      2\u001b[0m \u001b[0md\u001b[0m \u001b[1;33m=\u001b[0m \u001b[0mdict\u001b[0m\u001b[1;33m(\u001b[0m\u001b[1;33m)\u001b[0m\u001b[1;33m\u001b[0m\u001b[1;33m\u001b[0m\u001b[0m\n\u001b[1;32m----> 3\u001b[1;33m \u001b[0md\u001b[0m\u001b[1;33m[\u001b[0m\u001b[0mt\u001b[0m\u001b[1;33m]\u001b[0m \u001b[1;33m=\u001b[0m \u001b[1;34m'ops'\u001b[0m\u001b[1;33m\u001b[0m\u001b[1;33m\u001b[0m\u001b[0m\n\u001b[0m",
      "\u001b[1;31mTypeError\u001b[0m: unhashable type: 'list'"
     ]
    }
   ],
   "source": [
    "t = [1,2,3]\n",
    "d = dict()\n",
    "d[t] = 'ops'"
   ]
  },
  {
   "cell_type": "markdown",
   "id": "6bc43cc4",
   "metadata": {},
   "source": [
    "字典是通过散列表的方式实现的，意味着键必须是**可散列的（hashable）**。<br>\n",
    "**散列**是一个函数，接收任意类型的值并返回一个整数。字典使用整数来保存和查找键值对。\n",
    "\n"
   ]
  },
  {
   "cell_type": "markdown",
   "id": "c5c8dc7a",
   "metadata": {},
   "source": [
    "键必须是可散列的，类似列表这样的可变类型是不可散列的，字典是可变的，所以也不能用作键，可以用作值。<br>\n",
    "**可变类型不能用作键。因为键必须是可散列的。**"
   ]
  },
  {
   "attachments": {},
   "cell_type": "markdown",
   "id": "5c6f09a8",
   "metadata": {},
   "source": [
    "## 11.6 备忘\n",
    "6.7节中的fibonacci函数，参数越大，函数运行时间越长，并且运行时间增长很快。<br>\n",
    "下图为fibonacci函数n=4时的调用图：\n",
    "![](https://www.greenteapress.com/thinkpython2/html/thinkpython2017.png)"
   ]
  },
  {
   "cell_type": "markdown",
   "id": "0d5277df",
   "metadata": {},
   "source": [
    "用字典保存已经计算过的值，将之前计算的值保存起来以方便后面使用的方法称为**备忘（memo）**。<br>\n",
    "使用memo的fibonacci函数："
   ]
  },
  {
   "cell_type": "code",
   "execution_count": 34,
   "id": "481b7c99",
   "metadata": {},
   "outputs": [],
   "source": [
    "known = {0:0,1:1}\n",
    "\n",
    "def fibonacci(n):\n",
    "    if n in known:\n",
    "        return known[n]\n",
    "    \n",
    "    res = fibonacci(n-1) + fibonacci(n-2)\n",
    "    known[n] = res\n",
    "    \n",
    "    return res"
   ]
  },
  {
   "cell_type": "code",
   "execution_count": 39,
   "id": "5b827991",
   "metadata": {},
   "outputs": [
    {
     "data": {
      "text/plain": [
       "(0, 1, 1, 2, 3, 5, 8, 13)"
      ]
     },
     "execution_count": 39,
     "metadata": {},
     "output_type": "execute_result"
    }
   ],
   "source": [
    "fibonacci(0),fibonacci(1),fibonacci(2),fibonacci(3),fibonacci(4),fibonacci(5),fibonacci(6),fibonacci(7)"
   ]
  },
  {
   "cell_type": "code",
   "execution_count": 40,
   "id": "fad4b600",
   "metadata": {},
   "outputs": [
    {
     "data": {
      "text/plain": [
       "{0: 0, 1: 1, 2: 1, 3: 2, 4: 3, 5: 5, 6: 8, 7: 13}"
      ]
     },
     "execution_count": 40,
     "metadata": {},
     "output_type": "execute_result"
    }
   ],
   "source": [
    "known"
   ]
  },
  {
   "cell_type": "markdown",
   "id": "b185d322",
   "metadata": {},
   "source": [
    "## 11.7 全局变量\n",
    "前一个例子中，known是在函数之外创建的，所以它属于被称为`__main__`的特殊帧。`__main__`之中的变量有时被称为全局变量，与之相对的是局部变量。\n",
    "全局变量常常用作**标志（flag）**。比如下面这个例子，用来控制输出。"
   ]
  },
  {
   "cell_type": "code",
   "execution_count": 41,
   "id": "0166934b",
   "metadata": {},
   "outputs": [],
   "source": [
    "verbose = True\n",
    "\n",
    "def example1():\n",
    "    if verbose:\n",
    "        print('Running example1')"
   ]
  },
  {
   "cell_type": "markdown",
   "id": "111f65f9",
   "metadata": {},
   "source": [
    "尝试在函数中给全局变量重新赋值，会发现全局变量的值并不会发生变化。这是因为在函数example2中会新建一个局部变量been_called。局部变量在函数结束时会消失，对全局变量没有影响。"
   ]
  },
  {
   "cell_type": "code",
   "execution_count": 45,
   "id": "80033736",
   "metadata": {},
   "outputs": [
    {
     "data": {
      "text/plain": [
       "False"
      ]
     },
     "execution_count": 45,
     "metadata": {},
     "output_type": "execute_result"
    }
   ],
   "source": [
    "been_called = False\n",
    "\n",
    "def example2():\n",
    "    been_called = True # 在这里重新赋值并不会改变全局变量been_called的值\n",
    "\n",
    "example2()\n",
    "been_called"
   ]
  },
  {
   "cell_type": "markdown",
   "id": "28948935",
   "metadata": {},
   "source": [
    "如果想在函数中给全局变量重新赋值，需要在赋值之前先**声明**这个全局变量："
   ]
  },
  {
   "cell_type": "code",
   "execution_count": 46,
   "id": "14d7d65d",
   "metadata": {},
   "outputs": [
    {
     "data": {
      "text/plain": [
       "True"
      ]
     },
     "execution_count": 46,
     "metadata": {},
     "output_type": "execute_result"
    }
   ],
   "source": [
    "been_called = False\n",
    "\n",
    "def example2():\n",
    "    global been_called\n",
    "    been_called = True\n",
    "\n",
    "example2()\n",
    "been_called"
   ]
  },
  {
   "cell_type": "markdown",
   "id": "eb2795e7",
   "metadata": {},
   "source": [
    "如果全局变量指向的是可变的值，可以不用声明该变量就修改该值："
   ]
  },
  {
   "cell_type": "code",
   "execution_count": 49,
   "id": "7aa6e24f",
   "metadata": {},
   "outputs": [
    {
     "data": {
      "text/plain": [
       "{0: 0, 1: 1, 2: 1}"
      ]
     },
     "execution_count": 49,
     "metadata": {},
     "output_type": "execute_result"
    }
   ],
   "source": [
    "known ={0:0,1:1}\n",
    "\n",
    "def example4():\n",
    "    known[2] = 1\n",
    "    \n",
    "example4()\n",
    "known"
   ]
  },
  {
   "cell_type": "markdown",
   "id": "7a096aeb",
   "metadata": {},
   "source": [
    "可以添加、删除和替换一个全局的列表或字典的元素，但要给全局变量重新赋值，则需要声明："
   ]
  },
  {
   "cell_type": "code",
   "execution_count": 50,
   "id": "a255cc33",
   "metadata": {},
   "outputs": [
    {
     "data": {
      "text/plain": [
       "{}"
      ]
     },
     "execution_count": 50,
     "metadata": {},
     "output_type": "execute_result"
    }
   ],
   "source": [
    "def example5():\n",
    "    global known\n",
    "    known = dict()\n",
    "    \n",
    "example5()\n",
    "known"
   ]
  },
  {
   "cell_type": "markdown",
   "id": "e2bf6fa5",
   "metadata": {},
   "source": [
    "## 11.8 调试\n",
    "## 11.9 术语表\n",
    "- 映射（mapping）\n",
    "- 字典（dictionary）\n",
    "- 键值对（key-value pair）\n",
    "- 项（item）\n",
    "- 键（key）\n",
    "- 值（value）\n",
    "- 实现（implementation）\n",
    "- 散列表（hashtable）\n",
    "- 散列函数（hash function）\n",
    "- 可散列（hashable）\n",
    "- 查找（lookup）\n",
    "- 反向查找（reverse lookup）\n",
    "- raise语句\n",
    "- 单件（singleton）：只包含一个元素的列表（或其他序列）\n",
    "- 调用图（call graph）\n",
    "- 备忘（memo）：将计算的结果存储起来，以避免将来进行不必要的计算。\n",
    "- 全局变量（global variable）\n",
    "- 全局语句（global statement）\n",
    "- 标志（tag）\n",
    "- 声明（declaration）"
   ]
  },
  {
   "cell_type": "code",
   "execution_count": null,
   "id": "bec80860",
   "metadata": {},
   "outputs": [],
   "source": []
  }
 ],
 "metadata": {
  "kernelspec": {
   "display_name": "Python 3",
   "language": "python",
   "name": "python3"
  },
  "language_info": {
   "codemirror_mode": {
    "name": "ipython",
    "version": 3
   },
   "file_extension": ".py",
   "mimetype": "text/x-python",
   "name": "python",
   "nbconvert_exporter": "python",
   "pygments_lexer": "ipython3",
   "version": "3.8.8"
  }
 },
 "nbformat": 4,
 "nbformat_minor": 5
}
