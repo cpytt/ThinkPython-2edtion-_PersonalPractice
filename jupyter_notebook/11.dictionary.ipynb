{
 "cells": [
  {
   "cell_type": "markdown",
   "id": "b5742990",
   "metadata": {},
   "source": [
    "# 第十一章 字典"
   ]
  },
  {
   "cell_type": "markdown",
   "id": "d0871fa1",
   "metadata": {},
   "source": [
    "## 11.1 字典是一种映射"
   ]
  },
  {
   "cell_type": "markdown",
   "id": "65f5c3ea",
   "metadata": {},
   "source": [
    "字典类似于列表，但更加**通用**。<br>\n",
    "通用体现在：在列表中，下标必须是整数；而在字典中，下标几乎可以是任何类型。<br>\n",
    "字典包含键集合和值集合。每个键都与一个值关联。键和值之间的关联称为**键值对(key-value pair)**，或者有时称为一**项(item)**。<br>\n",
    "用数学语言来描述，字典体现了键到值的**映射**，所以可以说每个键“映射”到一个值。<br><br>\n",
    "\n",
    "构建一个字典，将英语单词映射到西班牙语上。首先创建一个空的字典。"
   ]
  },
  {
   "cell_type": "code",
   "execution_count": 1,
   "id": "89023493",
   "metadata": {},
   "outputs": [
    {
     "data": {
      "text/plain": [
       "{}"
      ]
     },
     "execution_count": 1,
     "metadata": {},
     "output_type": "execute_result"
    }
   ],
   "source": [
    "eng2sp = dict()\n",
    "eng2sp"
   ]
  },
  {
   "cell_type": "markdown",
   "id": "af8104db",
   "metadata": {},
   "source": [
    "给字典添加新项，可以使用方括号操作符："
   ]
  },
  {
   "cell_type": "code",
   "execution_count": 2,
   "id": "24fbe0f9",
   "metadata": {},
   "outputs": [
    {
     "data": {
      "text/plain": [
       "{'one': 'uno'}"
      ]
     },
     "execution_count": 2,
     "metadata": {},
     "output_type": "execute_result"
    }
   ],
   "source": [
    "eng2sp['one']='uno'\n",
    "eng2sp"
   ]
  },
  {
   "cell_type": "markdown",
   "id": "266ee908",
   "metadata": {},
   "source": [
    "创建一个包含3项的新字典，并打印："
   ]
  },
  {
   "cell_type": "code",
   "execution_count": 5,
   "id": "5d88bec5",
   "metadata": {},
   "outputs": [
    {
     "data": {
      "text/plain": [
       "{'one': 'uno', 'two': 'dos', 'three': 'tres'}"
      ]
     },
     "execution_count": 5,
     "metadata": {},
     "output_type": "execute_result"
    }
   ],
   "source": [
    "eng2sp = {'one':'uno','two':'dos','three':'tres'}\n",
    "eng2sp"
   ]
  },
  {
   "cell_type": "markdown",
   "id": "156a1b7f",
   "metadata": {},
   "source": [
    "字典的元素不像列表那样用整数下标进行查找，而是使用键来查找对应的值："
   ]
  },
  {
   "cell_type": "code",
   "execution_count": 6,
   "id": "c492827a",
   "metadata": {},
   "outputs": [
    {
     "data": {
      "text/plain": [
       "'dos'"
      ]
     },
     "execution_count": 6,
     "metadata": {},
     "output_type": "execute_result"
    }
   ],
   "source": [
    "eng2sp['two']"
   ]
  },
  {
   "cell_type": "code",
   "execution_count": 7,
   "id": "c0e13fca",
   "metadata": {},
   "outputs": [
    {
     "data": {
      "text/plain": [
       "3"
      ]
     },
     "execution_count": 7,
     "metadata": {},
     "output_type": "execute_result"
    }
   ],
   "source": [
    "len(eng2sp)    # 内置函数len()同样也可以用于字典，返回字典中键值对的数量"
   ]
  },
  {
   "cell_type": "code",
   "execution_count": 9,
   "id": "1ffb3441",
   "metadata": {},
   "outputs": [
    {
     "data": {
      "text/plain": [
       "(True, False)"
      ]
     },
     "execution_count": 9,
     "metadata": {},
     "output_type": "execute_result"
    }
   ],
   "source": [
    "'one' in eng2sp,'uno' in eng2sp  # in操作符同样也可以用于字典，判断是不是字典的键。注意！判断的不是值"
   ]
  },
  {
   "cell_type": "markdown",
   "id": "df8e171a",
   "metadata": {},
   "source": [
    "若要查看一个值是不是出现在字典的值中，可以使用方法values，返回一个值集合，然后再应用in操作符进行判断："
   ]
  },
  {
   "cell_type": "code",
   "execution_count": 12,
   "id": "9a3afa13",
   "metadata": {},
   "outputs": [
    {
     "data": {
      "text/plain": [
       "(dict_values(['uno', 'dos', 'tres']), True)"
      ]
     },
     "execution_count": 12,
     "metadata": {},
     "output_type": "execute_result"
    }
   ],
   "source": [
    "vals = eng2sp.values()\n",
    "vals,'uno' in vals"
   ]
  },
  {
   "cell_type": "markdown",
   "id": "3cf6f2aa",
   "metadata": {},
   "source": [
    "Tip：in操作符对列表和字典使用不同的算法实现。<br>\n",
    ">对于列表，按**顺序**搜索列表的元素，所以当列表的长度变长时，搜索时间也会随之变长。<br>\n",
    ">对于字典，使用**散列表(hash table)**进行查找,所以不管字典有多少项，搜索时间都是差不多的。"
   ]
  },
  {
   "cell_type": "code",
   "execution_count": null,
   "id": "59103f27",
   "metadata": {},
   "outputs": [],
   "source": []
  }
 ],
 "metadata": {
  "kernelspec": {
   "display_name": "Python 3",
   "language": "python",
   "name": "python3"
  },
  "language_info": {
   "codemirror_mode": {
    "name": "ipython",
    "version": 3
   },
   "file_extension": ".py",
   "mimetype": "text/x-python",
   "name": "python",
   "nbconvert_exporter": "python",
   "pygments_lexer": "ipython3",
   "version": "3.8.8"
  }
 },
 "nbformat": 4,
 "nbformat_minor": 5
}
