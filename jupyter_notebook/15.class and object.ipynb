{
 "cells": [
  {
   "cell_type": "markdown",
   "id": "d64a79c3",
   "metadata": {},
   "source": [
    "# 第15章 类和对象"
   ]
  },
  {
   "cell_type": "markdown",
   "id": "88b3a99d",
   "metadata": {},
   "source": [
    "## 15.1 用户定义类型\n",
    "新建一个类型Point，用来表示二维空间上的一个点。<br>\n",
    "用户定义的类型也称为**类（class）**。"
   ]
  },
  {
   "cell_type": "code",
   "execution_count": 1,
   "id": "f8a7d3b4",
   "metadata": {},
   "outputs": [],
   "source": [
    "class Point:\n",
    "    \"\"\"Represents a point in 2-D space.\"\"\""
   ]
  },
  {
   "cell_type": "markdown",
   "id": "555432a3",
   "metadata": {},
   "source": [
    "定义一个叫作Point的类会创建一个**对象类（object class）**。"
   ]
  },
  {
   "cell_type": "code",
   "execution_count": 2,
   "id": "e5f821fb",
   "metadata": {},
   "outputs": [
    {
     "data": {
      "text/plain": [
       "__main__.Point"
      ]
     },
     "execution_count": 2,
     "metadata": {},
     "output_type": "execute_result"
    }
   ],
   "source": [
    "Point"
   ]
  },
  {
   "cell_type": "markdown",
   "id": "c5bb037d",
   "metadata": {},
   "source": [
    "因为Point是在程序顶层定义，它的“全名”是__main__.Point。"
   ]
  },
  {
   "cell_type": "code",
   "execution_count": 3,
   "id": "1c7da0a3",
   "metadata": {},
   "outputs": [
    {
     "data": {
      "text/plain": [
       "<__main__.Point at 0x24fd34d7a60>"
      ]
     },
     "execution_count": 3,
     "metadata": {},
     "output_type": "execute_result"
    }
   ],
   "source": [
    "blank = Point()\n",
    "blank"
   ]
  },
  {
   "cell_type": "markdown",
   "id": "fb752e94",
   "metadata": {},
   "source": [
    "新建一个对象的过程称为**实例化（instantiation）**，而对象是这个类的一个**实例**。"
   ]
  },
  {
   "cell_type": "markdown",
   "id": "14d252d3",
   "metadata": {},
   "source": [
    "## 15.2 属性 \n",
    "使用句点表示法给实例赋值："
   ]
  },
  {
   "cell_type": "code",
   "execution_count": 4,
   "id": "3fd6d815",
   "metadata": {},
   "outputs": [],
   "source": [
    "blank.x=3.0\n",
    "blank.y=4.0"
   ]
  },
  {
   "cell_type": "markdown",
   "id": "6b4b5c3a",
   "metadata": {},
   "source": [
    "将值赋给一个对象的有命名的元素。这些元素称为**属性（attribute）**。<br>\n",
    "![对象图](https://www.greenteapress.com/thinkpython2/html/thinkpython2020.png)"
   ]
  },
  {
   "cell_type": "code",
   "execution_count": 5,
   "id": "19f6cc95",
   "metadata": {},
   "outputs": [
    {
     "name": "stdout",
     "output_type": "stream",
     "text": [
      "(3,4)\n"
     ]
    }
   ],
   "source": [
    "def print_point(p):\n",
    "    print('(%g,%g)'%(p.x,p.y))\n",
    "    \n",
    "print_point(blank)"
   ]
  },
  {
   "cell_type": "markdown",
   "id": "23222ca0",
   "metadata": {},
   "source": [
    "编写一个叫作distance_between_points的函数，接收两个Point对象作为形参，返回它们之间的距离。"
   ]
  },
  {
   "cell_type": "code",
   "execution_count": 6,
   "id": "1faaad97",
   "metadata": {},
   "outputs": [],
   "source": [
    "def distance_between_points(p1,p2):\n",
    "    return math.sqrt((p1.x-p2.x)**2+(p1.y-p2.y)**2)"
   ]
  },
  {
   "cell_type": "code",
   "execution_count": 7,
   "id": "d9e76c29",
   "metadata": {},
   "outputs": [
    {
     "data": {
      "text/plain": [
       "5.0"
      ]
     },
     "execution_count": 7,
     "metadata": {},
     "output_type": "execute_result"
    }
   ],
   "source": [
    "import math\n",
    "\n",
    "origin = Point()\n",
    "origin.x=0.0\n",
    "origin.y=0.0\n",
    "distance_between_points(blank,origin)"
   ]
  },
  {
   "cell_type": "markdown",
   "id": "9a1f937a",
   "metadata": {},
   "source": [
    "## 15.3 矩形\n",
    "新建一个表达矩阵的`Rectangle`类："
   ]
  },
  {
   "cell_type": "code",
   "execution_count": 8,
   "id": "c6b563d4",
   "metadata": {},
   "outputs": [],
   "source": [
    "class Rectangle:\n",
    "    \"\"\"Represents a rectangle.\n",
    "    \n",
    "    attributes:\n",
    "    width->int,\n",
    "    height->int,\n",
    "    corner->Point.\n",
    "    \"\"\"\n",
    "    def __init__(self,width,height,corner_x,corner_y):\n",
    "        self.width = width\n",
    "        self.height = height\n",
    "        self.corner = Point()\n",
    "        self.corner.x = corner_x\n",
    "        self.corner.y = corner_y"
   ]
  },
  {
   "cell_type": "code",
   "execution_count": 9,
   "id": "a4387c95",
   "metadata": {},
   "outputs": [],
   "source": [
    "box = Rectangle(width=100.0,height=200.0,corner_x=0,corner_y=0)"
   ]
  },
  {
   "cell_type": "markdown",
   "id": "d8b3280f",
   "metadata": {},
   "source": [
    "![对象图](https://www.greenteapress.com/thinkpython2/html/thinkpython2021.png)"
   ]
  },
  {
   "cell_type": "code",
   "execution_count": 10,
   "id": "665d0b88",
   "metadata": {},
   "outputs": [
    {
     "data": {
      "text/plain": [
       "0"
      ]
     },
     "execution_count": 10,
     "metadata": {},
     "output_type": "execute_result"
    }
   ],
   "source": [
    "box.corner.x"
   ]
  },
  {
   "cell_type": "markdown",
   "id": "d5f0c906",
   "metadata": {},
   "source": [
    "表达式`box.corner.x`表示,\"Go to the object box refers to and select the attribute named corner; then go to that object and select the attribute named x.\"<br>\n",
    "作为另一个对象的属性存在的对象是**内嵌**的。"
   ]
  },
  {
   "cell_type": "markdown",
   "id": "c2249841",
   "metadata": {},
   "source": [
    "## 15.4 作为返回值的实例\n",
    "\n",
    "函数可以返回实例。<br>\n",
    "比如，`find_center`函数接收`Rectangle`对象作为参数，并返回一个`Point`对象，包含`Rectangle`的中心点的坐标："
   ]
  },
  {
   "cell_type": "code",
   "execution_count": 11,
   "id": "6240531d",
   "metadata": {},
   "outputs": [],
   "source": [
    "def find_center(rect):\n",
    "    p = Point()\n",
    "    p.x = rect.corner.x + rect.width/2\n",
    "    p.y = rect.corner.y + rect.height/2\n",
    "    return p"
   ]
  },
  {
   "cell_type": "markdown",
   "id": "ee3409f8",
   "metadata": {},
   "source": [
    "传入15.3中的`box`作为实参，并将结果的`Point`对象赋给变量`center`："
   ]
  },
  {
   "cell_type": "code",
   "execution_count": 12,
   "id": "bcb5d640",
   "metadata": {},
   "outputs": [
    {
     "name": "stdout",
     "output_type": "stream",
     "text": [
      "(50,100)\n"
     ]
    }
   ],
   "source": [
    "center = find_center(box)\n",
    "print_point(center)"
   ]
  },
  {
   "cell_type": "markdown",
   "id": "f9affe0a",
   "metadata": {},
   "source": [
    "# 15.5 对象是可变的\n",
    "\n",
    "通过函数`grow_rectangle`接收一个`Rectangle`对象和两个数，宽度的变化量：`dwidth`；高度的变化量：`dheight`，并把这些数加到矩形的宽度和高度上："
   ]
  },
  {
   "cell_type": "code",
   "execution_count": 13,
   "id": "0ca17ed6",
   "metadata": {},
   "outputs": [],
   "source": [
    "def grow_rectangle(rect, dwidth, dheight):\n",
    "    rect.width += dwidth\n",
    "    rect.height += dheight"
   ]
  },
  {
   "cell_type": "code",
   "execution_count": 14,
   "id": "ef9f3d90",
   "metadata": {},
   "outputs": [
    {
     "data": {
      "text/plain": [
       "(100.0, 200.0)"
      ]
     },
     "execution_count": 14,
     "metadata": {},
     "output_type": "execute_result"
    }
   ],
   "source": [
    "box.width,box.height"
   ]
  },
  {
   "cell_type": "code",
   "execution_count": 15,
   "id": "dea38819",
   "metadata": {},
   "outputs": [
    {
     "data": {
      "text/plain": [
       "(150.0, 300.0)"
      ]
     },
     "execution_count": 15,
     "metadata": {},
     "output_type": "execute_result"
    }
   ],
   "source": [
    "grow_rectangle(box,50,100)\n",
    "box.width,box.height"
   ]
  },
  {
   "cell_type": "markdown",
   "id": "26f7f146",
   "metadata": {},
   "source": [
    "练习："
   ]
  },
  {
   "cell_type": "code",
   "execution_count": null,
   "id": "b54d5256",
   "metadata": {},
   "outputs": [],
   "source": []
  }
 ],
 "metadata": {
  "kernelspec": {
   "display_name": "Python 3",
   "language": "python",
   "name": "python3"
  },
  "language_info": {
   "codemirror_mode": {
    "name": "ipython",
    "version": 3
   },
   "file_extension": ".py",
   "mimetype": "text/x-python",
   "name": "python",
   "nbconvert_exporter": "python",
   "pygments_lexer": "ipython3",
   "version": "3.8.8"
  }
 },
 "nbformat": 4,
 "nbformat_minor": 5
}
