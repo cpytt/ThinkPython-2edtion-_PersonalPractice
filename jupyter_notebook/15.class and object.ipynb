{
 "cells": [
  {
   "cell_type": "markdown",
   "id": "d64a79c3",
   "metadata": {},
   "source": [
    "# 第15章 类和对象"
   ]
  },
  {
   "cell_type": "markdown",
   "id": "88b3a99d",
   "metadata": {},
   "source": [
    "## 15.1 用户定义类型\n",
    "新建一个类型Point，用来表示二维空间上的一个点。<br>\n",
    "用户定义的类型也称为**类（class）**。"
   ]
  },
  {
   "cell_type": "code",
   "execution_count": 39,
   "id": "f8a7d3b4",
   "metadata": {},
   "outputs": [],
   "source": [
    "class Point:\n",
    "    \"\"\"Represents a point in 2-D space.\"\"\""
   ]
  },
  {
   "cell_type": "markdown",
   "id": "555432a3",
   "metadata": {},
   "source": [
    "定义一个叫作Point的类会创建一个**对象类（object class）**。"
   ]
  },
  {
   "cell_type": "code",
   "execution_count": 40,
   "id": "e5f821fb",
   "metadata": {},
   "outputs": [
    {
     "data": {
      "text/plain": [
       "__main__.Point"
      ]
     },
     "execution_count": 40,
     "metadata": {},
     "output_type": "execute_result"
    }
   ],
   "source": [
    "Point"
   ]
  },
  {
   "cell_type": "markdown",
   "id": "c5bb037d",
   "metadata": {},
   "source": [
    "因为Point是在程序顶层定义，它的“全名”是__main__.Point。"
   ]
  },
  {
   "cell_type": "code",
   "execution_count": 41,
   "id": "1c7da0a3",
   "metadata": {},
   "outputs": [
    {
     "data": {
      "text/plain": [
       "<__main__.Point at 0x1ab620c6eb0>"
      ]
     },
     "execution_count": 41,
     "metadata": {},
     "output_type": "execute_result"
    }
   ],
   "source": [
    "blank = Point()\n",
    "blank"
   ]
  },
  {
   "cell_type": "markdown",
   "id": "fb752e94",
   "metadata": {},
   "source": [
    "新建一个对象的过程称为**实例化（instantiation）**，而对象是这个类的一个**实例**。"
   ]
  },
  {
   "cell_type": "markdown",
   "id": "14d252d3",
   "metadata": {},
   "source": [
    "## 15.2 属性 \n",
    "使用句点表示法给实例赋值："
   ]
  },
  {
   "cell_type": "code",
   "execution_count": 42,
   "id": "3fd6d815",
   "metadata": {},
   "outputs": [],
   "source": [
    "blank.x=3.0\n",
    "blank.y=4.0"
   ]
  },
  {
   "cell_type": "markdown",
   "id": "6b4b5c3a",
   "metadata": {},
   "source": [
    "将值赋给一个对象的有命名的元素。这些元素称为**属性（attribute）**。<br>\n",
    "![对象图](https://www.greenteapress.com/thinkpython2/html/thinkpython2020.png)"
   ]
  },
  {
   "cell_type": "code",
   "execution_count": 43,
   "id": "19f6cc95",
   "metadata": {},
   "outputs": [
    {
     "name": "stdout",
     "output_type": "stream",
     "text": [
      "(3,4)\n"
     ]
    }
   ],
   "source": [
    "def print_point(p):\n",
    "    print('(%g,%g)'%(p.x,p.y))\n",
    "    \n",
    "print_point(blank)"
   ]
  },
  {
   "cell_type": "markdown",
   "id": "23222ca0",
   "metadata": {},
   "source": [
    "编写一个叫作distance_between_points的函数，接收两个Point对象作为形参，返回它们之间的距离。"
   ]
  },
  {
   "cell_type": "code",
   "execution_count": 44,
   "id": "1faaad97",
   "metadata": {},
   "outputs": [],
   "source": [
    "def distance_between_points(p1,p2):\n",
    "    return math.sqrt((p1.x-p2.x)**2+(p1.y-p2.y)**2)"
   ]
  },
  {
   "cell_type": "code",
   "execution_count": 45,
   "id": "d9e76c29",
   "metadata": {},
   "outputs": [
    {
     "data": {
      "text/plain": [
       "5.0"
      ]
     },
     "execution_count": 45,
     "metadata": {},
     "output_type": "execute_result"
    }
   ],
   "source": [
    "import math\n",
    "\n",
    "origin = Point()\n",
    "origin.x=0.0\n",
    "origin.y=0.0\n",
    "distance_between_points(blank,origin)"
   ]
  },
  {
   "cell_type": "markdown",
   "id": "9a1f937a",
   "metadata": {},
   "source": [
    "## 15.3 矩形\n",
    "新建一个表达矩阵的`Rectangle`类："
   ]
  },
  {
   "cell_type": "code",
   "execution_count": 46,
   "id": "c6b563d4",
   "metadata": {},
   "outputs": [],
   "source": [
    "class Rectangle:\n",
    "    \"\"\"Represents a rectangle.\n",
    "    \n",
    "    attributes:\n",
    "    width->int,\n",
    "    height->int,\n",
    "    corner->Point.\n",
    "    \"\"\"\n",
    "    def __init__(self,width,height,corner_x,corner_y):\n",
    "        self.width = width\n",
    "        self.height = height\n",
    "        self.corner = Point()\n",
    "        self.corner.x = corner_x\n",
    "        self.corner.y = corner_y"
   ]
  },
  {
   "cell_type": "code",
   "execution_count": 47,
   "id": "a4387c95",
   "metadata": {},
   "outputs": [],
   "source": [
    "box = Rectangle(width=100.0,height=200.0,corner_x=0,corner_y=0)"
   ]
  },
  {
   "cell_type": "markdown",
   "id": "d8b3280f",
   "metadata": {},
   "source": [
    "![对象图](https://www.greenteapress.com/thinkpython2/html/thinkpython2021.png)"
   ]
  },
  {
   "cell_type": "code",
   "execution_count": 48,
   "id": "665d0b88",
   "metadata": {},
   "outputs": [
    {
     "data": {
      "text/plain": [
       "0"
      ]
     },
     "execution_count": 48,
     "metadata": {},
     "output_type": "execute_result"
    }
   ],
   "source": [
    "box.corner.x"
   ]
  },
  {
   "cell_type": "markdown",
   "id": "d5f0c906",
   "metadata": {},
   "source": [
    "表达式`box.corner.x`表示,\"Go to the object box refers to and select the attribute named corner; then go to that object and select the attribute named x.\"<br>\n",
    "作为另一个对象的属性存在的对象是**内嵌**的。"
   ]
  },
  {
   "cell_type": "markdown",
   "id": "c2249841",
   "metadata": {},
   "source": [
    "## 15.4 作为返回值的实例\n",
    "\n",
    "函数可以返回实例。<br>\n",
    "比如，`find_center`函数接收`Rectangle`对象作为参数，并返回一个`Point`对象，包含`Rectangle`的中心点的坐标："
   ]
  },
  {
   "cell_type": "code",
   "execution_count": 49,
   "id": "6240531d",
   "metadata": {},
   "outputs": [],
   "source": [
    "def find_center(rect):\n",
    "    p = Point()\n",
    "    p.x = rect.corner.x + rect.width/2\n",
    "    p.y = rect.corner.y + rect.height/2\n",
    "    return p"
   ]
  },
  {
   "cell_type": "markdown",
   "id": "ee3409f8",
   "metadata": {},
   "source": [
    "传入15.3中的`box`作为实参，并将结果的`Point`对象赋给变量`center`："
   ]
  },
  {
   "cell_type": "code",
   "execution_count": 50,
   "id": "bcb5d640",
   "metadata": {},
   "outputs": [
    {
     "name": "stdout",
     "output_type": "stream",
     "text": [
      "(50,100)\n"
     ]
    }
   ],
   "source": [
    "center = find_center(box)\n",
    "print_point(center)"
   ]
  },
  {
   "cell_type": "markdown",
   "id": "f9affe0a",
   "metadata": {},
   "source": [
    "# 15.5 对象是可变的\n",
    "\n",
    "通过函数`grow_rectangle`接收一个`Rectangle`对象和两个数，宽度的变化量：`dwidth`；高度的变化量：`dheight`，并把这些数加到矩形的宽度和高度上："
   ]
  },
  {
   "cell_type": "code",
   "execution_count": 51,
   "id": "0ca17ed6",
   "metadata": {},
   "outputs": [],
   "source": [
    "def grow_rectangle(rect, dwidth, dheight):\n",
    "    rect.width += dwidth\n",
    "    rect.height += dheight"
   ]
  },
  {
   "cell_type": "code",
   "execution_count": 52,
   "id": "ef9f3d90",
   "metadata": {},
   "outputs": [
    {
     "data": {
      "text/plain": [
       "(100.0, 200.0)"
      ]
     },
     "execution_count": 52,
     "metadata": {},
     "output_type": "execute_result"
    }
   ],
   "source": [
    "box.width,box.height"
   ]
  },
  {
   "cell_type": "code",
   "execution_count": 53,
   "id": "dea38819",
   "metadata": {},
   "outputs": [
    {
     "data": {
      "text/plain": [
       "(150.0, 300.0)"
      ]
     },
     "execution_count": 53,
     "metadata": {},
     "output_type": "execute_result"
    }
   ],
   "source": [
    "grow_rectangle(box,50,100)\n",
    "box.width,box.height"
   ]
  },
  {
   "cell_type": "markdown",
   "id": "26f7f146",
   "metadata": {},
   "source": [
    "练习：<br>\n",
    "编写一个名为move_rectangle的函数，接收一个Rectangle的对象和两个分别为dx和dy的数值。dx和dy通过分别改变corner的x和y坐标来改变矩形的位置。"
   ]
  },
  {
   "cell_type": "code",
   "execution_count": 54,
   "id": "b54d5256",
   "metadata": {},
   "outputs": [],
   "source": [
    "def move_rectangle(rect, dx ,dy):\n",
    "    rect.corner.x += dx\n",
    "    rect.corner.y += dy"
   ]
  },
  {
   "cell_type": "code",
   "execution_count": 55,
   "id": "b05db58f",
   "metadata": {},
   "outputs": [],
   "source": [
    "move_rectangle(box,10,20)"
   ]
  },
  {
   "cell_type": "code",
   "execution_count": 56,
   "id": "93975888",
   "metadata": {},
   "outputs": [
    {
     "data": {
      "text/plain": [
       "(10, 20)"
      ]
     },
     "execution_count": 56,
     "metadata": {},
     "output_type": "execute_result"
    }
   ],
   "source": [
    "box.corner.x,box.corner.y"
   ]
  },
  {
   "cell_type": "markdown",
   "id": "2a182368",
   "metadata": {},
   "source": [
    "## 15.6 浅复制和深复制\n",
    "使用别名的常用替代方案是复制对象。<br>\n",
    "copy模块里有一个函数copy可以复制任何对象："
   ]
  },
  {
   "cell_type": "code",
   "execution_count": 57,
   "id": "43adb40a",
   "metadata": {},
   "outputs": [],
   "source": [
    "p1 =Point()\n",
    "p1.x=3.0\n",
    "p1.y=4.0"
   ]
  },
  {
   "cell_type": "code",
   "execution_count": 58,
   "id": "2013c168",
   "metadata": {},
   "outputs": [],
   "source": [
    "import copy\n",
    "p2 = copy.copy(p1)"
   ]
  },
  {
   "cell_type": "code",
   "execution_count": 59,
   "id": "2cba2546",
   "metadata": {},
   "outputs": [
    {
     "name": "stdout",
     "output_type": "stream",
     "text": [
      "(3,4)\n"
     ]
    }
   ],
   "source": [
    "print_point(p1)"
   ]
  },
  {
   "cell_type": "code",
   "execution_count": 60,
   "id": "1bcf3bcf",
   "metadata": {},
   "outputs": [
    {
     "name": "stdout",
     "output_type": "stream",
     "text": [
      "(3,4)\n"
     ]
    }
   ],
   "source": [
    "print_point(p2)"
   ]
  },
  {
   "cell_type": "code",
   "execution_count": 61,
   "id": "f89b9d1a",
   "metadata": {},
   "outputs": [
    {
     "data": {
      "text/plain": [
       "False"
      ]
     },
     "execution_count": 61,
     "metadata": {},
     "output_type": "execute_result"
    }
   ],
   "source": [
    "p1 is p2"
   ]
  },
  {
   "cell_type": "code",
   "execution_count": 62,
   "id": "daf094ed",
   "metadata": {},
   "outputs": [
    {
     "data": {
      "text/plain": [
       "False"
      ]
     },
     "execution_count": 62,
     "metadata": {},
     "output_type": "execute_result"
    }
   ],
   "source": [
    "p1 == p2"
   ]
  },
  {
   "cell_type": "markdown",
   "id": "a88c35ff",
   "metadata": {},
   "source": [
    "对于实例而言，==操作符的默认行为和is操作符相同，会检查对象同一性（identical），而不是对象相等性（equivalent）。"
   ]
  },
  {
   "cell_type": "markdown",
   "id": "c5041c9e",
   "metadata": {},
   "source": [
    "如果使用copy.copy复制一个Rectangle，会发现复制了Rectangle对象但不复制内嵌的Point对象，这种操作称为**浅复制/浅拷贝（shallow copy）**。<br>\n",
    "复制对象及其包含的任何引用，但不复制内嵌对象。"
   ]
  },
  {
   "cell_type": "code",
   "execution_count": 63,
   "id": "a495e437",
   "metadata": {},
   "outputs": [
    {
     "data": {
      "text/plain": [
       "False"
      ]
     },
     "execution_count": 63,
     "metadata": {},
     "output_type": "execute_result"
    }
   ],
   "source": [
    "box2 = copy.copy(box)\n",
    "box2 is box"
   ]
  },
  {
   "cell_type": "code",
   "execution_count": 64,
   "id": "52323617",
   "metadata": {},
   "outputs": [
    {
     "data": {
      "text/plain": [
       "True"
      ]
     },
     "execution_count": 64,
     "metadata": {},
     "output_type": "execute_result"
    }
   ],
   "source": [
    "box2.corner is box.corner"
   ]
  },
  {
   "cell_type": "markdown",
   "id": "dd49aec4",
   "metadata": {},
   "source": [
    "![1](https://www.greenteapress.com/thinkpython2/html/thinkpython2022.png \"对象图\")"
   ]
  },
  {
   "cell_type": "markdown",
   "id": "5b64ee10",
   "metadata": {},
   "source": [
    "copy模块还提供了一个名为deepcopy的方法，它不但复制对象，还会复制对象中引用的对象，这种操作称为**深复制/深拷贝（deep copy）**。"
   ]
  },
  {
   "cell_type": "code",
   "execution_count": 65,
   "id": "24532728",
   "metadata": {},
   "outputs": [
    {
     "data": {
      "text/plain": [
       "False"
      ]
     },
     "execution_count": 65,
     "metadata": {},
     "output_type": "execute_result"
    }
   ],
   "source": [
    "box3 = copy.deepcopy(box)\n",
    "box3.corner is box.corner "
   ]
  },
  {
   "cell_type": "markdown",
   "id": "3aef3cac",
   "metadata": {},
   "source": [
    "练习：<br>\n",
    "编写move_rectangle的另一个版本，新建并返回一个Rectangle对象，而不是直接修改旧对象。"
   ]
  },
  {
   "cell_type": "code",
   "execution_count": 66,
   "id": "08d5ca77",
   "metadata": {},
   "outputs": [],
   "source": [
    "def move_rectangle(rect,dx,dy):\n",
    "    rect_new = copy.deepcopy(rect)\n",
    "    rect_new.corner.x += dx\n",
    "    rect_new.corner.y += dy\n",
    "    return rect_new"
   ]
  },
  {
   "cell_type": "code",
   "execution_count": 67,
   "id": "820cb535",
   "metadata": {},
   "outputs": [
    {
     "data": {
      "text/plain": [
       "(10, 20)"
      ]
     },
     "execution_count": 67,
     "metadata": {},
     "output_type": "execute_result"
    }
   ],
   "source": [
    "box.corner.x,box.corner.y"
   ]
  },
  {
   "cell_type": "code",
   "execution_count": 68,
   "id": "27b18766",
   "metadata": {},
   "outputs": [
    {
     "data": {
      "text/plain": [
       "(10, 20)"
      ]
     },
     "execution_count": 68,
     "metadata": {},
     "output_type": "execute_result"
    }
   ],
   "source": [
    "box1 = move_rectangle(box,10,20)\n",
    "box.corner.x,box.corner.y"
   ]
  },
  {
   "cell_type": "code",
   "execution_count": 69,
   "id": "2df715cf",
   "metadata": {},
   "outputs": [
    {
     "data": {
      "text/plain": [
       "(20, 40)"
      ]
     },
     "execution_count": 69,
     "metadata": {},
     "output_type": "execute_result"
    }
   ],
   "source": [
    "box1.corner.x,box1.corner.y"
   ]
  },
  {
   "cell_type": "markdown",
   "id": "554c273f",
   "metadata": {},
   "source": [
    "## 15.7 调试\n",
    "如果不清楚一个对象是什么类型，可以使用内置函数type()："
   ]
  },
  {
   "cell_type": "code",
   "execution_count": 71,
   "id": "de9fcf0d",
   "metadata": {},
   "outputs": [
    {
     "data": {
      "text/plain": [
       "__main__.Point"
      ]
     },
     "execution_count": 71,
     "metadata": {},
     "output_type": "execute_result"
    }
   ],
   "source": [
    "p = Point()\n",
    "type(p)"
   ]
  },
  {
   "cell_type": "markdown",
   "id": "a9cf63e6",
   "metadata": {},
   "source": [
    "也可以使用isinstance来检查对象是否是某个类的实例："
   ]
  },
  {
   "cell_type": "code",
   "execution_count": 72,
   "id": "3e185799",
   "metadata": {},
   "outputs": [
    {
     "data": {
      "text/plain": [
       "True"
      ]
     },
     "execution_count": 72,
     "metadata": {},
     "output_type": "execute_result"
    }
   ],
   "source": [
    "isinstance(p,Point)"
   ]
  },
  {
   "cell_type": "markdown",
   "id": "7c222c8e",
   "metadata": {},
   "source": [
    "可以使用内置函数hasattr检查一个对象是否拥有某个特定的属性:"
   ]
  },
  {
   "cell_type": "code",
   "execution_count": 74,
   "id": "de96ef0c",
   "metadata": {},
   "outputs": [
    {
     "data": {
      "text/plain": [
       "False"
      ]
     },
     "execution_count": 74,
     "metadata": {},
     "output_type": "execute_result"
    }
   ],
   "source": [
    "hasattr(p,'x')"
   ]
  },
  {
   "cell_type": "code",
   "execution_count": 75,
   "id": "86062f0c",
   "metadata": {},
   "outputs": [
    {
     "data": {
      "text/plain": [
       "True"
      ]
     },
     "execution_count": 75,
     "metadata": {},
     "output_type": "execute_result"
    }
   ],
   "source": [
    "p.x = 2 \n",
    "hasattr(p,'x')"
   ]
  },
  {
   "cell_type": "markdown",
   "id": "cb9a80cf",
   "metadata": {},
   "source": [
    "## 15.8 术语表\n",
    "- 类（class）\n",
    "- 类对象（class object）\n",
    "- 实例（instance）\n",
    "- 实例化（instanciate）\n",
    "- 属性（attribute）\n",
    "- 内前对象（embedded object）\n",
    "- 浅复制/浅拷贝（shallow copy）\n",
    "- 深复制/深拷贝（deep copy）\n",
    "- 对象图(object daigram)"
   ]
  }
 ],
 "metadata": {
  "kernelspec": {
   "display_name": "Python 3",
   "language": "python",
   "name": "python3"
  },
  "language_info": {
   "codemirror_mode": {
    "name": "ipython",
    "version": 3
   },
   "file_extension": ".py",
   "mimetype": "text/x-python",
   "name": "python",
   "nbconvert_exporter": "python",
   "pygments_lexer": "ipython3",
   "version": "3.8.8"
  }
 },
 "nbformat": 4,
 "nbformat_minor": 5
}
