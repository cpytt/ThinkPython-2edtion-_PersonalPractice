{
 "cells": [
  {
   "cell_type": "markdown",
   "id": "b80b9f99",
   "metadata": {},
   "source": [
    "# 第18章 继承\n",
    "## 18.1 卡片对象"
   ]
  },
  {
   "cell_type": "markdown",
   "id": "da8a6557",
   "metadata": {},
   "source": [
    "我们可以对卡牌的属性:rank（大小）、suit（花色）进行编码，见下面的注释。"
   ]
  },
  {
   "cell_type": "code",
   "execution_count": 12,
   "id": "5b98a578",
   "metadata": {},
   "outputs": [],
   "source": [
    "\"\"\"\n",
    "suit:\n",
    "Clubs梅花♣     → 0\n",
    "Diamonds方片♦  → 1\n",
    "Hearts红桃♥    → 2\n",
    "Spades黑桃♠    → 3\n",
    "\"\"\"\n",
    "\n",
    "\"\"\"\n",
    "rank:\n",
    "Jack    → 11\n",
    "Queen   → 12\n",
    "King    → 13\n",
    "\"\"\"\n",
    "\n",
    "class Card:\n",
    "    def __init__(self,suit=0,rank=2):\n",
    "        self.suit=suit\n",
    "        self.rank=rank"
   ]
  },
  {
   "cell_type": "markdown",
   "id": "d257079b",
   "metadata": {},
   "source": [
    "创建一个Card对象，指定花色和大小，比如创建 方片12"
   ]
  },
  {
   "cell_type": "code",
   "execution_count": 13,
   "id": "fa1e6383",
   "metadata": {},
   "outputs": [],
   "source": [
    "queen_of_diamonds = Card(1,12)"
   ]
  },
  {
   "cell_type": "markdown",
   "id": "128e1d10",
   "metadata": {},
   "source": [
    "## 18.2 类属性\n",
    "为了将Card对象打印成容易阅读的格式，我们可以使用**字符串列表**,将整数编码映射成对应的大小和花色。"
   ]
  },
  {
   "cell_type": "code",
   "execution_count": 14,
   "id": "a8784396",
   "metadata": {},
   "outputs": [],
   "source": [
    "class Card:\n",
    "    suit_names = ['Clubs梅花♣ ','Diamonds方片♦','Hearts红桃♥','Spades黑桃♠']\n",
    "    rank_names = [None,'Ace','2','3','4','5','6','7','8','9','10','Jack','Queen','King']    \n",
    "    \n",
    "    def __init__(self,suit=0,rank=2):\n",
    "        self.suit=suit\n",
    "        self.rank=rank\n",
    "        \n",
    "    def __str__(self):\n",
    "        return '{}:{}'.format(Card.suit_names[self.suit],Card.rank_names[self.rank])"
   ]
  },
  {
   "cell_type": "code",
   "execution_count": 15,
   "id": "6ba55973",
   "metadata": {},
   "outputs": [
    {
     "name": "stdout",
     "output_type": "stream",
     "text": [
      "<__main__.Card object at 0x000001F328687FA0>\n"
     ]
    }
   ],
   "source": [
    "print(queen_of_diamonds)"
   ]
  },
  {
   "cell_type": "markdown",
   "id": "171e10f2",
   "metadata": {},
   "source": [
    "**类属性**：像suit_names和rank_names这样的变量定义在类中，又在任何方法之外。\n",
    "**实例属性**:像suit和rank之类的与一个特定的实例或者对象相关联的变量。"
   ]
  },
  {
   "cell_type": "code",
   "execution_count": 16,
   "id": "6feadf5d",
   "metadata": {},
   "outputs": [
    {
     "name": "stdout",
     "output_type": "stream",
     "text": [
      "Hearts红桃♥:Jack\n"
     ]
    }
   ],
   "source": [
    "card1 = Card(2,11)\n",
    "print(card1)"
   ]
  },
  {
   "attachments": {
    "image.png": {
     "image/png": "[encoded data removed]"
    }
   },
   "cell_type": "markdown",
   "id": "4a4f0a5d",
   "metadata": {},
   "source": [
    "![image.png](attachment:image.png)"
   ]
  },
  {
   "cell_type": "markdown",
   "id": "cae0103b",
   "metadata": {},
   "source": [
    "## 18.3 对比卡牌"
   ]
  },
  {
   "cell_type": "markdown",
   "id": "3c226600",
   "metadata": {},
   "source": [
    "对于内置类型，我们可以通过比较操作符（ < 、 > 、 == 等）来比较对象并返回bool。<br>\n",
    "对于用户定义类型，我们可以通过提供一个方法`__lt__`，代表\"less than\"，重载内置操作符。"
   ]
  },
  {
   "cell_type": "code",
   "execution_count": 17,
   "id": "bd30d852",
   "metadata": {},
   "outputs": [],
   "source": [
    "class Card:\n",
    "    suit_names = ['Clubs梅花♣ ','Diamonds方片♦','Hearts红桃♥','Spades黑桃♠']\n",
    "    rank_names = [None,'Ace','2','3','4','5','6','7','8','9','10','Jack','Queen','King']    \n",
    "    \n",
    "    def __init__(self,suit=0,rank=2):\n",
    "        self.suit=suit\n",
    "        self.rank=rank\n",
    "        \n",
    "    def __str__(self):\n",
    "        return '{}:{}'.format(Card.suit_names[self.suit],Card.rank_names[self.rank])\n",
    "    \n",
    "    def __lt__(self,other):\n",
    "        # 检查花色\n",
    "        if self.suit < other.suit : return True\n",
    "        if self.suit > other.suit : return False\n",
    "        \n",
    "        # 花色相同，检查大小\n",
    "        return self.rank < other.rank"
   ]
  },
  {
   "cell_type": "markdown",
   "id": "a2ea88d0",
   "metadata": {},
   "source": [
    "也可以使用元组比较，"
   ]
  },
  {
   "cell_type": "code",
   "execution_count": 18,
   "id": "4ca0e47c",
   "metadata": {},
   "outputs": [],
   "source": [
    "class Card:\n",
    "    suit_names = ['Clubs梅花♣ ','Diamonds方片♦','Hearts红桃♥','Spades黑桃♠']\n",
    "    rank_names = [None,'Ace','2','3','4','5','6','7','8','9','10','Jack','Queen','King']    \n",
    "    \n",
    "    def __init__(self,suit=0,rank=2):\n",
    "        self.suit=suit\n",
    "        self.rank=rank\n",
    "        \n",
    "    def __str__(self):\n",
    "        return '{}:{}'.format(Card.suit_names[self.suit],Card.rank_names[self.rank])\n",
    "    \n",
    "    def __lt__(self,other):\n",
    "        t1 = self.suit , self.rank\n",
    "        t2 = other.suit , other.rank\n",
    "        \n",
    "        return t1 < t2"
   ]
  },
  {
   "cell_type": "markdown",
   "id": "15223fbf",
   "metadata": {},
   "source": [
    "## 18.4 牌组\n",
    "## 18.5 打印牌组\n",
    "## 18.6 添加、删除、洗牌和排序\n",
    "有了卡牌，下一步定义牌组（deck）。<br>\n",
    "\n",
    "init方法创建cards属性，str方法打印牌组。"
   ]
  },
  {
   "cell_type": "code",
   "execution_count": 58,
   "id": "fb4f4e58",
   "metadata": {},
   "outputs": [],
   "source": [
    "import random\n",
    "\n",
    "class Deck():\n",
    "    \n",
    "    def __init__(self):\n",
    "        \"\"\"\n",
    "        生成52张牌的标准牌组 \n",
    "        \"\"\"\n",
    "        self.cards = []\n",
    "        for suit in range(4):          # 0-3\n",
    "            for rank in range(1,14):   # 1-13\n",
    "                card = Card(suit,rank)\n",
    "                self.cards.append(card)\n",
    "            \n",
    "    def __str__(self):\n",
    "        res = []\n",
    "        for card in self.cards:\n",
    "            res.append(str(card))\n",
    "        return '\\n'.join(res)\n",
    "    \n",
    "    def pop_card(self):\n",
    "        \"\"\"\n",
    "        发牌/牌组中删除一张牌\n",
    "        \"\"\"\n",
    "        return self.cards.pop()\n",
    "\n",
    "    def add_card(self,card):\n",
    "        \"\"\"\n",
    "        牌组添加一张牌\n",
    "        \"\"\"\n",
    "        self.cards.append(card)\n",
    "        \n",
    "    def shuffle(self):\n",
    "        \"\"\"\n",
    "        洗牌，引入rando模块\n",
    "        \"\"\"\n",
    "        random.shuffle(self.cards)\n",
    "        \n",
    "    def sort(self):\n",
    "        \"\"\"\n",
    "        冒泡排序\n",
    "        \"\"\"\n",
    "        length = len(self.cards)\n",
    "        for i in range (0,length):\n",
    "            for j in range (length-1-i):\n",
    "                if not self.cards[j] < self.cards[j+1]:\n",
    "                    self.cards[j],self.cards[j+1] =  self.cards[j+1],self.cards[j]\n",
    "                \n",
    "    def move_cards(self,hand,num):\n",
    "        \"\"\"\n",
    "        将主体中的num张牌移动到hand的cards中\n",
    "        \"\"\"\n",
    "        for i in range(num):\n",
    "            hand.add_card(self.pop_card())"
   ]
  },
  {
   "cell_type": "code",
   "execution_count": 59,
   "id": "52e716f6",
   "metadata": {
    "scrolled": false
   },
   "outputs": [
    {
     "name": "stdout",
     "output_type": "stream",
     "text": [
      "Diamonds方片♦:4\n",
      "Clubs梅花♣ :2\n",
      "Spades黑桃♠:7\n",
      "Spades黑桃♠:Jack\n",
      "Hearts红桃♥:10\n",
      "Clubs梅花♣ :3\n",
      "Hearts红桃♥:Jack\n",
      "Clubs梅花♣ :5\n",
      "Diamonds方片♦:Queen\n",
      "Spades黑桃♠:3\n",
      "Diamonds方片♦:5\n",
      "Hearts红桃♥:4\n",
      "Diamonds方片♦:King\n",
      "Diamonds方片♦:Ace\n",
      "Hearts红桃♥:6\n",
      "Diamonds方片♦:10\n",
      "Clubs梅花♣ :9\n",
      "Spades黑桃♠:4\n",
      "Spades黑桃♠:8\n",
      "Hearts红桃♥:7\n",
      "Clubs梅花♣ :10\n",
      "Spades黑桃♠:Queen\n",
      "Diamonds方片♦:7\n",
      "Clubs梅花♣ :6\n",
      "Spades黑桃♠:10\n",
      "Clubs梅花♣ :7\n",
      "Diamonds方片♦:6\n",
      "Diamonds方片♦:Jack\n",
      "Spades黑桃♠:2\n",
      "Diamonds方片♦:2\n",
      "Clubs梅花♣ :King\n",
      "Hearts红桃♥:2\n",
      "Clubs梅花♣ :Jack\n",
      "Hearts红桃♥:Ace\n",
      "Hearts红桃♥:3\n",
      "Spades黑桃♠:9\n",
      "Hearts红桃♥:5\n",
      "Clubs梅花♣ :Queen\n",
      "Clubs梅花♣ :4\n",
      "Hearts红桃♥:8\n",
      "Hearts红桃♥:3\n",
      "Clubs梅花♣ :8\n",
      "Diamonds方片♦:9\n",
      "Clubs梅花♣ :Ace\n",
      "Diamonds方片♦:3\n",
      "Spades黑桃♠:Ace\n",
      "Hearts红桃♥:9\n",
      "Diamonds方片♦:8\n",
      "Hearts红桃♥:King\n",
      "Spades黑桃♠:6\n",
      "Spades黑桃♠:5\n",
      "Hearts红桃♥:Queen\n"
     ]
    }
   ],
   "source": [
    "deck = Deck()\n",
    "deck.pop_card()\n",
    "\n",
    "deck.add_card(Card(2,3))\n",
    "deck.shuffle()\n",
    "print(deck)"
   ]
  },
  {
   "cell_type": "code",
   "execution_count": 60,
   "id": "af596e8a",
   "metadata": {},
   "outputs": [
    {
     "name": "stdout",
     "output_type": "stream",
     "text": [
      "Clubs梅花♣ :Ace\n",
      "Clubs梅花♣ :2\n",
      "Clubs梅花♣ :3\n",
      "Clubs梅花♣ :4\n",
      "Clubs梅花♣ :5\n",
      "Clubs梅花♣ :6\n",
      "Clubs梅花♣ :7\n",
      "Clubs梅花♣ :8\n",
      "Clubs梅花♣ :9\n",
      "Clubs梅花♣ :10\n",
      "Clubs梅花♣ :Jack\n",
      "Clubs梅花♣ :Queen\n",
      "Clubs梅花♣ :King\n",
      "Diamonds方片♦:Ace\n",
      "Diamonds方片♦:2\n",
      "Diamonds方片♦:3\n",
      "Diamonds方片♦:4\n",
      "Diamonds方片♦:5\n",
      "Diamonds方片♦:6\n",
      "Diamonds方片♦:7\n",
      "Diamonds方片♦:8\n",
      "Diamonds方片♦:9\n",
      "Diamonds方片♦:10\n",
      "Diamonds方片♦:Jack\n",
      "Diamonds方片♦:Queen\n",
      "Diamonds方片♦:King\n",
      "Hearts红桃♥:Ace\n",
      "Hearts红桃♥:2\n",
      "Hearts红桃♥:3\n",
      "Hearts红桃♥:3\n",
      "Hearts红桃♥:4\n",
      "Hearts红桃♥:5\n",
      "Hearts红桃♥:6\n",
      "Hearts红桃♥:7\n",
      "Hearts红桃♥:8\n",
      "Hearts红桃♥:9\n",
      "Hearts红桃♥:10\n",
      "Hearts红桃♥:Jack\n",
      "Hearts红桃♥:Queen\n",
      "Hearts红桃♥:King\n",
      "Spades黑桃♠:Ace\n",
      "Spades黑桃♠:2\n",
      "Spades黑桃♠:3\n",
      "Spades黑桃♠:4\n",
      "Spades黑桃♠:5\n",
      "Spades黑桃♠:6\n",
      "Spades黑桃♠:7\n",
      "Spades黑桃♠:8\n",
      "Spades黑桃♠:9\n",
      "Spades黑桃♠:10\n",
      "Spades黑桃♠:Jack\n",
      "Spades黑桃♠:Queen\n"
     ]
    }
   ],
   "source": [
    "deck.sort()\n",
    "print(deck)"
   ]
  },
  {
   "cell_type": "markdown",
   "id": "695e4c3f",
   "metadata": {},
   "source": [
    "## 18.7 继承\n",
    "定义一副手牌，继承牌组。"
   ]
  },
  {
   "cell_type": "code",
   "execution_count": 65,
   "id": "6fb30a53",
   "metadata": {},
   "outputs": [],
   "source": [
    "class Hand(Deck):\n",
    "    def __init__(self,lable=''):\n",
    "        self.cards=[]\n",
    "        self.lable=lable"
   ]
  },
  {
   "cell_type": "code",
   "execution_count": 66,
   "id": "de588e84",
   "metadata": {
    "scrolled": true
   },
   "outputs": [
    {
     "name": "stdout",
     "output_type": "stream",
     "text": [
      "Spades黑桃♠:9\n",
      "Spades黑桃♠:8\n",
      "Spades黑桃♠:7\n"
     ]
    }
   ],
   "source": [
    "hand = Hand('new hand')\n",
    "deck.move_cards(hand,3)\n",
    "print(hand)\n",
    "\n",
    "#     def move_cards(self,hand,num):\n",
    "#         \"\"\"\n",
    "#         将主体中的num张牌移动到hand的cards中\n",
    "#         \"\"\"\n",
    "#         for i in range(num):\n",
    "#             hand.add_card(self.pop_card())"
   ]
  },
  {
   "cell_type": "markdown",
   "id": "c1ece3ad",
   "metadata": {},
   "source": [
    "move_cards函数接收两个参数，Hand对象以及需要出牌的牌数。<br>\n",
    "\n",
    "有的情况下，卡牌会从一副手牌中移除转入到另一副手牌中，或者从手牌中回到牌组，这两种情况都可以用move_cards函数完成<br>\n",
    "- self既可以是一个Deck对象，也可以是一个Hand对象。\n",
    "- hand参数，虽然名字是hand，但也可以是一个Deck对象。"
   ]
  },
  {
   "cell_type": "markdown",
   "id": "5c6c3191",
   "metadata": {},
   "source": [
    "**继承**可以促进代码复用，可以在不修改父类的前提下对它的行为进行定制化，但另一方面也可能会让代码更难读。"
   ]
  },
  {
   "attachments": {
    "image.png": {
     "image/png": "[encoded data removed]"
    }
   },
   "cell_type": "markdown",
   "id": "11a942c9",
   "metadata": {},
   "source": [
    "## 18.8 类图\n",
    "类之间有下面几种关联：\n",
    "- 一个类的对象可能包含其他类的对象的**引用**。这种关联称为**HAS-A**（有一个）\n",
    "- 一个类**继承**自另一个类。这种关系称为**IS-A（是一个）**\n",
    "- 一个类**依赖**于另一个类。一个类的对象接收另一个类的对象作为参数，或者使用另一个类的对象进行某种计算，这种关系称为**依赖（dependency）**\n",
    "\n",
    "下面的类图，展示了Card、Deck、Hand类之间的关系：\n",
    "![image.png](attachment:image.png)\n",
    "空心三角形箭头的线代表继承，标准的箭头代表引用，\\*号表示Deck类可以有任意数量的Card引用。<br>\n",
    "依赖关系通常使用虚线箭头表示，参考链接：https://blog.csdn.net/yhy_it/article/details/83389222"
   ]
  },
  {
   "cell_type": "code",
   "execution_count": null,
   "id": "d0c41887",
   "metadata": {},
   "outputs": [],
   "source": []
  }
 ],
 "metadata": {
  "kernelspec": {
   "display_name": "Python 3",
   "language": "python",
   "name": "python3"
  },
  "language_info": {
   "codemirror_mode": {
    "name": "ipython",
    "version": 3
   },
   "file_extension": ".py",
   "mimetype": "text/x-python",
   "name": "python",
   "nbconvert_exporter": "python",
   "pygments_lexer": "ipython3",
   "version": "3.8.8"
  }
 },
 "nbformat": 4,
 "nbformat_minor": 5
}
